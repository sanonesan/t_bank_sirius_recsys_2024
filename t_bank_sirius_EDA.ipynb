{
 "cells": [
  {
   "cell_type": "markdown",
   "metadata": {},
   "source": [
    "# T_BANK_SIRIUS_RECSYS\n",
    "# EDA\n",
    "## Выполнил Егоров Александр\n",
    "\n"
   ]
  },
  {
   "cell_type": "markdown",
   "metadata": {},
   "source": [
    ">-----"
   ]
  },
  {
   "cell_type": "markdown",
   "metadata": {},
   "source": [
    "## Комментарий к ноутбуку\n",
    "\n",
    "> Архивы с данными по выборкам не прилагается в github, т.к. его размер много больше 50 мб (git giant files issue). Их можно будет найти по следующим ссылкам:\n",
    ">\n",
    "> Данные по выборкам:\n",
    ">> https://github.com/0x0000dead/sirius-tbank-recsys-task-2024 \n",
    "> распаковать в папку data/ в корневой директории проекта, либо изменить путь до данных в ноутбуке\n",
    ">\n",
    "> Ссылка на гугл диск со всеми данными к ноутбукам:\n",
    ">> https://drive.google.com/drive/folders/12WS-cT-jWI7aschIoPzquMcWTTmSbIum?usp=sharing\n",
    "\n",
    "Одна из целей EDA это отстроить графики и посмотреть, что и как происходит в данных: сделать визуализацию, чтобы красиво презентовать, построить какие-то гипотезы относительно данных для проведения A\\B-тестирования. Однако в данном ноутбуке графического материала сделал по минимуму, т.к. посчитал, что для такого типа данных, а главное, **поставленной задачи** (реализация рекомендательной модели), большого смысла обширный EDA не несет: счел более важными размышления о том, какие данные и как можно использовать при построении модели &mdash; строить графики ради графиков не стал."
   ]
  },
  {
   "cell_type": "markdown",
   "metadata": {},
   "source": [
    ">----"
   ]
  },
  {
   "cell_type": "markdown",
   "metadata": {},
   "source": [
    "# Библиотеки"
   ]
  },
  {
   "cell_type": "code",
   "execution_count": 1,
   "metadata": {},
   "outputs": [],
   "source": [
    "import numpy as np\n",
    "import pandas as pd\n",
    "\n",
    "from typing import  Dict, Optional, Any\n",
    "\n",
    "import matplotlib.pyplot as plt\n",
    "import matplotlib.ticker as mticker\n",
    "\n",
    "import seaborn as sns\n",
    "\n",
    "# USE THIS STYLE\n",
    "# plt.style.use('https://github.com/dhaitz/matplotlib-stylesheets/raw/master/pitayasmoothie-light.mplstyle')\n",
    "# \n",
    "# OR THIS STYLE\n",
    "import aquarel\n",
    "\n",
    "import warnings\n",
    "\n",
    "warnings.filterwarnings(\"ignore\")\n",
    "\n",
    "theme = aquarel.load_theme(\"arctic_light\")\n",
    "theme.set_font(family=\"serif\")\n",
    "theme.apply()\n",
    "\n",
    "# Сделаем автоподгрузку всех изменений при перепрогонке ячейки\n",
    "%load_ext autoreload\n",
    "%autoreload 2\n",
    "\n",
    "%matplotlib inline"
   ]
  },
  {
   "cell_type": "markdown",
   "metadata": {},
   "source": [
    "# Данные"
   ]
  },
  {
   "cell_type": "code",
   "execution_count": 2,
   "metadata": {},
   "outputs": [],
   "source": [
    "data_folder = \"./data/\"\n",
    "\n",
    "users = pd.read_csv(data_folder + \"users_df.csv\")\n",
    "items = pd.read_csv(data_folder + \"items_df.csv\")\n",
    "\n",
    "countries = pd.read_csv(data_folder + \"countries.csv\")\n",
    "genres = pd.read_csv(data_folder + \"genres.csv\")\n",
    "staff = pd.read_csv(data_folder + \"staff.csv\")\n",
    "\n",
    "interactions = pd.read_csv(data_folder + \"train_data.csv\", parse_dates=[\"datetime\"])\n",
    "interactions = interactions.drop(columns=[\"is_train\"])\n",
    "\n",
    "test_df = pd.read_csv(data_folder + \"test_data.csv\")\n",
    "test_df = test_df.groupby(\"user_id\").agg({\"movie_id\": list}).reset_index()"
   ]
  },
  {
   "cell_type": "markdown",
   "metadata": {},
   "source": [
    "## Бегло посмотрим на данные в таблицах: выведем основную информацию, чтобы понимать структуру данных"
   ]
  },
  {
   "cell_type": "code",
   "execution_count": 3,
   "metadata": {},
   "outputs": [],
   "source": [
    "def display_df_main_info(df: pd.DataFrame):\n",
    "    display(df.head(5))\n",
    "    display(df.shape)\n",
    "    display(df.dtypes)"
   ]
  },
  {
   "cell_type": "code",
   "execution_count": 4,
   "metadata": {},
   "outputs": [
    {
     "data": {
      "text/html": [
       "<div>\n",
       "<style scoped>\n",
       "    .dataframe tbody tr th:only-of-type {\n",
       "        vertical-align: middle;\n",
       "    }\n",
       "\n",
       "    .dataframe tbody tr th {\n",
       "        vertical-align: top;\n",
       "    }\n",
       "\n",
       "    .dataframe thead th {\n",
       "        text-align: right;\n",
       "    }\n",
       "</style>\n",
       "<table border=\"1\" class=\"dataframe\">\n",
       "  <thead>\n",
       "    <tr style=\"text-align: right;\">\n",
       "      <th></th>\n",
       "      <th>user_id</th>\n",
       "      <th>age_category</th>\n",
       "      <th>income</th>\n",
       "      <th>sex</th>\n",
       "      <th>kids_flg</th>\n",
       "      <th>education</th>\n",
       "    </tr>\n",
       "  </thead>\n",
       "  <tbody>\n",
       "    <tr>\n",
       "      <th>0</th>\n",
       "      <td>10250</td>\n",
       "      <td>35-44</td>\n",
       "      <td>NaN</td>\n",
       "      <td>NaN</td>\n",
       "      <td>0.0</td>\n",
       "      <td>Высшее</td>\n",
       "    </tr>\n",
       "    <tr>\n",
       "      <th>1</th>\n",
       "      <td>2062</td>\n",
       "      <td>18-24</td>\n",
       "      <td>NaN</td>\n",
       "      <td>Женский</td>\n",
       "      <td>0.0</td>\n",
       "      <td>Среднее</td>\n",
       "    </tr>\n",
       "    <tr>\n",
       "      <th>2</th>\n",
       "      <td>12980</td>\n",
       "      <td>35-44</td>\n",
       "      <td>NaN</td>\n",
       "      <td>Женский</td>\n",
       "      <td>1.0</td>\n",
       "      <td>Неполное высшее</td>\n",
       "    </tr>\n",
       "    <tr>\n",
       "      <th>3</th>\n",
       "      <td>30646</td>\n",
       "      <td>35-44</td>\n",
       "      <td>низкий</td>\n",
       "      <td>NaN</td>\n",
       "      <td>1.0</td>\n",
       "      <td>Высшее</td>\n",
       "    </tr>\n",
       "    <tr>\n",
       "      <th>4</th>\n",
       "      <td>43069</td>\n",
       "      <td>25-34</td>\n",
       "      <td>NaN</td>\n",
       "      <td>Женский</td>\n",
       "      <td>NaN</td>\n",
       "      <td>Высшее</td>\n",
       "    </tr>\n",
       "  </tbody>\n",
       "</table>\n",
       "</div>"
      ],
      "text/plain": [
       "   user_id age_category  income      sex  kids_flg        education\n",
       "0    10250        35-44     NaN      NaN       0.0           Высшее\n",
       "1     2062        18-24     NaN  Женский       0.0          Среднее\n",
       "2    12980        35-44     NaN  Женский       1.0  Неполное высшее\n",
       "3    30646        35-44  низкий      NaN       1.0           Высшее\n",
       "4    43069        25-34     NaN  Женский       NaN           Высшее"
      ]
     },
     "metadata": {},
     "output_type": "display_data"
    },
    {
     "data": {
      "text/plain": [
       "(207377, 6)"
      ]
     },
     "metadata": {},
     "output_type": "display_data"
    },
    {
     "data": {
      "text/plain": [
       "user_id           int64\n",
       "age_category     object\n",
       "income           object\n",
       "sex              object\n",
       "kids_flg        float64\n",
       "education        object\n",
       "dtype: object"
      ]
     },
     "metadata": {},
     "output_type": "display_data"
    }
   ],
   "source": [
    "display_df_main_info(users)"
   ]
  },
  {
   "cell_type": "code",
   "execution_count": 5,
   "metadata": {},
   "outputs": [
    {
     "data": {
      "text/html": [
       "<div>\n",
       "<style scoped>\n",
       "    .dataframe tbody tr th:only-of-type {\n",
       "        vertical-align: middle;\n",
       "    }\n",
       "\n",
       "    .dataframe tbody tr th {\n",
       "        vertical-align: top;\n",
       "    }\n",
       "\n",
       "    .dataframe thead th {\n",
       "        text-align: right;\n",
       "    }\n",
       "</style>\n",
       "<table border=\"1\" class=\"dataframe\">\n",
       "  <thead>\n",
       "    <tr style=\"text-align: right;\">\n",
       "      <th></th>\n",
       "      <th>id</th>\n",
       "      <th>title</th>\n",
       "      <th>year</th>\n",
       "      <th>date_publication</th>\n",
       "      <th>description</th>\n",
       "      <th>genres</th>\n",
       "      <th>countries</th>\n",
       "      <th>staff</th>\n",
       "      <th>title_orig</th>\n",
       "      <th>age_rating</th>\n",
       "      <th>keywords</th>\n",
       "    </tr>\n",
       "  </thead>\n",
       "  <tbody>\n",
       "    <tr>\n",
       "      <th>0</th>\n",
       "      <td>0</td>\n",
       "      <td>Мама, я дома</td>\n",
       "      <td>2022-01-01</td>\n",
       "      <td>2022-11-23T00:00:00</td>\n",
       "      <td>Где-то в глубинке вместе с дочерью и внуком жи...</td>\n",
       "      <td>[97]</td>\n",
       "      <td>[238]</td>\n",
       "      <td>[1883, 33655, 25890, 1001, 12051, 10110, 16895]</td>\n",
       "      <td>NaN</td>\n",
       "      <td>NaN</td>\n",
       "      <td>NaN</td>\n",
       "    </tr>\n",
       "    <tr>\n",
       "      <th>1</th>\n",
       "      <td>1</td>\n",
       "      <td>Три метра над уровнем неба</td>\n",
       "      <td>2010-01-01</td>\n",
       "      <td>NaN</td>\n",
       "      <td>История любви парня и девушки, принадлежащих к...</td>\n",
       "      <td>[138, 97, 294]</td>\n",
       "      <td>[242]</td>\n",
       "      <td>[18168, 23444, 10850, 21847, 30555, 24469, 268...</td>\n",
       "      <td>Tres metros sobre el cielo</td>\n",
       "      <td>16.0</td>\n",
       "      <td>Три, метра, над, уровнем, неба, 2010, Испания,...</td>\n",
       "    </tr>\n",
       "    <tr>\n",
       "      <th>2</th>\n",
       "      <td>2</td>\n",
       "      <td>Детектив ди и тайна призрачного пламени</td>\n",
       "      <td>2010-01-01</td>\n",
       "      <td>NaN</td>\n",
       "      <td>690 год нашей эры, Китай. Первая императрица д...</td>\n",
       "      <td>[294, 302]</td>\n",
       "      <td>[250, 117]</td>\n",
       "      <td>[3933, 19953, 32174, 30640, 14127, 32141, 2549...</td>\n",
       "      <td>NaN</td>\n",
       "      <td>NaN</td>\n",
       "      <td>NaN</td>\n",
       "    </tr>\n",
       "    <tr>\n",
       "      <th>3</th>\n",
       "      <td>3</td>\n",
       "      <td>Капитан</td>\n",
       "      <td>2017-01-01</td>\n",
       "      <td>2022-10-20T00:00:00</td>\n",
       "      <td>Вторая мировая война подходит к концу. В это в...</td>\n",
       "      <td>[97, 303, 143, 319]</td>\n",
       "      <td>[188, 212, 0]</td>\n",
       "      <td>[16006, 12217, 30668, 28806, 16172, 5045, 1663...</td>\n",
       "      <td>NaN</td>\n",
       "      <td>NaN</td>\n",
       "      <td>NaN</td>\n",
       "    </tr>\n",
       "    <tr>\n",
       "      <th>4</th>\n",
       "      <td>4</td>\n",
       "      <td>Лазурный берег</td>\n",
       "      <td>2015-01-01</td>\n",
       "      <td>2023-01-12T00:00:00</td>\n",
       "      <td>У бывшей танцовщицы Ванессы и писателя Роланда...</td>\n",
       "      <td>[138, 97]</td>\n",
       "      <td>[1, 102, 0]</td>\n",
       "      <td>[23586, 8823, 8040, 34555, 32484, 18446]</td>\n",
       "      <td>By the Sea</td>\n",
       "      <td>18.0</td>\n",
       "      <td>Франция, отель, 1970-е, горе, путешествие, нес...</td>\n",
       "    </tr>\n",
       "  </tbody>\n",
       "</table>\n",
       "</div>"
      ],
      "text/plain": [
       "   id                                    title        year  \\\n",
       "0   0                             Мама, я дома  2022-01-01   \n",
       "1   1               Три метра над уровнем неба  2010-01-01   \n",
       "2   2  Детектив ди и тайна призрачного пламени  2010-01-01   \n",
       "3   3                                  Капитан  2017-01-01   \n",
       "4   4                           Лазурный берег  2015-01-01   \n",
       "\n",
       "      date_publication                                        description  \\\n",
       "0  2022-11-23T00:00:00  Где-то в глубинке вместе с дочерью и внуком жи...   \n",
       "1                  NaN  История любви парня и девушки, принадлежащих к...   \n",
       "2                  NaN  690 год нашей эры, Китай. Первая императрица д...   \n",
       "3  2022-10-20T00:00:00  Вторая мировая война подходит к концу. В это в...   \n",
       "4  2023-01-12T00:00:00  У бывшей танцовщицы Ванессы и писателя Роланда...   \n",
       "\n",
       "                genres      countries  \\\n",
       "0                 [97]          [238]   \n",
       "1       [138, 97, 294]          [242]   \n",
       "2           [294, 302]     [250, 117]   \n",
       "3  [97, 303, 143, 319]  [188, 212, 0]   \n",
       "4            [138, 97]    [1, 102, 0]   \n",
       "\n",
       "                                               staff  \\\n",
       "0    [1883, 33655, 25890, 1001, 12051, 10110, 16895]   \n",
       "1  [18168, 23444, 10850, 21847, 30555, 24469, 268...   \n",
       "2  [3933, 19953, 32174, 30640, 14127, 32141, 2549...   \n",
       "3  [16006, 12217, 30668, 28806, 16172, 5045, 1663...   \n",
       "4           [23586, 8823, 8040, 34555, 32484, 18446]   \n",
       "\n",
       "                   title_orig  age_rating  \\\n",
       "0                         NaN         NaN   \n",
       "1  Tres metros sobre el cielo        16.0   \n",
       "2                         NaN         NaN   \n",
       "3                         NaN         NaN   \n",
       "4                  By the Sea        18.0   \n",
       "\n",
       "                                            keywords  \n",
       "0                                                NaN  \n",
       "1  Три, метра, над, уровнем, неба, 2010, Испания,...  \n",
       "2                                                NaN  \n",
       "3                                                NaN  \n",
       "4  Франция, отель, 1970-е, горе, путешествие, нес...  "
      ]
     },
     "metadata": {},
     "output_type": "display_data"
    },
    {
     "data": {
      "text/plain": [
       "(7427, 11)"
      ]
     },
     "metadata": {},
     "output_type": "display_data"
    },
    {
     "data": {
      "text/plain": [
       "id                    int64\n",
       "title                object\n",
       "year                 object\n",
       "date_publication     object\n",
       "description          object\n",
       "genres               object\n",
       "countries            object\n",
       "staff                object\n",
       "title_orig           object\n",
       "age_rating          float64\n",
       "keywords             object\n",
       "dtype: object"
      ]
     },
     "metadata": {},
     "output_type": "display_data"
    }
   ],
   "source": [
    "display_df_main_info(items)"
   ]
  },
  {
   "cell_type": "code",
   "execution_count": 6,
   "metadata": {},
   "outputs": [
    {
     "data": {
      "text/html": [
       "<div>\n",
       "<style scoped>\n",
       "    .dataframe tbody tr th:only-of-type {\n",
       "        vertical-align: middle;\n",
       "    }\n",
       "\n",
       "    .dataframe tbody tr th {\n",
       "        vertical-align: top;\n",
       "    }\n",
       "\n",
       "    .dataframe thead th {\n",
       "        text-align: right;\n",
       "    }\n",
       "</style>\n",
       "<table border=\"1\" class=\"dataframe\">\n",
       "  <thead>\n",
       "    <tr style=\"text-align: right;\">\n",
       "      <th></th>\n",
       "      <th>id</th>\n",
       "      <th>datetime</th>\n",
       "      <th>user_id</th>\n",
       "      <th>movie_id</th>\n",
       "      <th>duration</th>\n",
       "    </tr>\n",
       "  </thead>\n",
       "  <tbody>\n",
       "    <tr>\n",
       "      <th>0</th>\n",
       "      <td>0</td>\n",
       "      <td>2023-04-06 15:00:00.071114+03:00</td>\n",
       "      <td>10250</td>\n",
       "      <td>427.0</td>\n",
       "      <td>485.0</td>\n",
       "    </tr>\n",
       "    <tr>\n",
       "      <th>1</th>\n",
       "      <td>1</td>\n",
       "      <td>2023-04-06 15:00:01.123928+03:00</td>\n",
       "      <td>2062</td>\n",
       "      <td>1521.0</td>\n",
       "      <td>129.0</td>\n",
       "    </tr>\n",
       "    <tr>\n",
       "      <th>2</th>\n",
       "      <td>2</td>\n",
       "      <td>2023-04-06 15:00:03.957246+03:00</td>\n",
       "      <td>12980</td>\n",
       "      <td>4598.0</td>\n",
       "      <td>2795.0</td>\n",
       "    </tr>\n",
       "    <tr>\n",
       "      <th>3</th>\n",
       "      <td>3</td>\n",
       "      <td>2023-04-06 15:00:04.990565+03:00</td>\n",
       "      <td>30646</td>\n",
       "      <td>5324.0</td>\n",
       "      <td>5094.0</td>\n",
       "    </tr>\n",
       "    <tr>\n",
       "      <th>4</th>\n",
       "      <td>4</td>\n",
       "      <td>2023-04-06 15:00:10.495017+03:00</td>\n",
       "      <td>43069</td>\n",
       "      <td>4291.0</td>\n",
       "      <td>75.0</td>\n",
       "    </tr>\n",
       "  </tbody>\n",
       "</table>\n",
       "</div>"
      ],
      "text/plain": [
       "   id                          datetime  user_id  movie_id  duration\n",
       "0   0  2023-04-06 15:00:00.071114+03:00    10250     427.0     485.0\n",
       "1   1  2023-04-06 15:00:01.123928+03:00     2062    1521.0     129.0\n",
       "2   2  2023-04-06 15:00:03.957246+03:00    12980    4598.0    2795.0\n",
       "3   3  2023-04-06 15:00:04.990565+03:00    30646    5324.0    5094.0\n",
       "4   4  2023-04-06 15:00:10.495017+03:00    43069    4291.0      75.0"
      ]
     },
     "metadata": {},
     "output_type": "display_data"
    },
    {
     "data": {
      "text/plain": [
       "(1251871, 5)"
      ]
     },
     "metadata": {},
     "output_type": "display_data"
    },
    {
     "data": {
      "text/plain": [
       "id            int64\n",
       "datetime     object\n",
       "user_id       int64\n",
       "movie_id    float64\n",
       "duration    float64\n",
       "dtype: object"
      ]
     },
     "metadata": {},
     "output_type": "display_data"
    }
   ],
   "source": [
    "display_df_main_info(interactions)"
   ]
  },
  {
   "cell_type": "code",
   "execution_count": 7,
   "metadata": {},
   "outputs": [
    {
     "data": {
      "text/html": [
       "<div>\n",
       "<style scoped>\n",
       "    .dataframe tbody tr th:only-of-type {\n",
       "        vertical-align: middle;\n",
       "    }\n",
       "\n",
       "    .dataframe tbody tr th {\n",
       "        vertical-align: top;\n",
       "    }\n",
       "\n",
       "    .dataframe thead th {\n",
       "        text-align: right;\n",
       "    }\n",
       "</style>\n",
       "<table border=\"1\" class=\"dataframe\">\n",
       "  <thead>\n",
       "    <tr style=\"text-align: right;\">\n",
       "      <th></th>\n",
       "      <th>id</th>\n",
       "      <th>name</th>\n",
       "    </tr>\n",
       "  </thead>\n",
       "  <tbody>\n",
       "    <tr>\n",
       "      <th>0</th>\n",
       "      <td>0</td>\n",
       "      <td>Франция</td>\n",
       "    </tr>\n",
       "    <tr>\n",
       "      <th>1</th>\n",
       "      <td>1</td>\n",
       "      <td>Мальта</td>\n",
       "    </tr>\n",
       "    <tr>\n",
       "      <th>2</th>\n",
       "      <td>5</td>\n",
       "      <td>Новая Зеландия</td>\n",
       "    </tr>\n",
       "    <tr>\n",
       "      <th>3</th>\n",
       "      <td>8</td>\n",
       "      <td>Куба</td>\n",
       "    </tr>\n",
       "    <tr>\n",
       "      <th>4</th>\n",
       "      <td>10</td>\n",
       "      <td>Пуэрто-Рико</td>\n",
       "    </tr>\n",
       "  </tbody>\n",
       "</table>\n",
       "</div>"
      ],
      "text/plain": [
       "   id            name\n",
       "0   0         Франция\n",
       "1   1          Мальта\n",
       "2   5  Новая Зеландия\n",
       "3   8            Куба\n",
       "4  10     Пуэрто-Рико"
      ]
     },
     "metadata": {},
     "output_type": "display_data"
    },
    {
     "data": {
      "text/plain": [
       "(100, 2)"
      ]
     },
     "metadata": {},
     "output_type": "display_data"
    },
    {
     "data": {
      "text/plain": [
       "id       int64\n",
       "name    object\n",
       "dtype: object"
      ]
     },
     "metadata": {},
     "output_type": "display_data"
    },
    {
     "data": {
      "text/html": [
       "<div>\n",
       "<style scoped>\n",
       "    .dataframe tbody tr th:only-of-type {\n",
       "        vertical-align: middle;\n",
       "    }\n",
       "\n",
       "    .dataframe tbody tr th {\n",
       "        vertical-align: top;\n",
       "    }\n",
       "\n",
       "    .dataframe thead th {\n",
       "        text-align: right;\n",
       "    }\n",
       "</style>\n",
       "<table border=\"1\" class=\"dataframe\">\n",
       "  <thead>\n",
       "    <tr style=\"text-align: right;\">\n",
       "      <th></th>\n",
       "      <th>id</th>\n",
       "      <th>name</th>\n",
       "    </tr>\n",
       "  </thead>\n",
       "  <tbody>\n",
       "    <tr>\n",
       "      <th>0</th>\n",
       "      <td>2</td>\n",
       "      <td>Сказка</td>\n",
       "    </tr>\n",
       "    <tr>\n",
       "      <th>1</th>\n",
       "      <td>8</td>\n",
       "      <td>Здоровье</td>\n",
       "    </tr>\n",
       "    <tr>\n",
       "      <th>2</th>\n",
       "      <td>17</td>\n",
       "      <td>Наука</td>\n",
       "    </tr>\n",
       "    <tr>\n",
       "      <th>3</th>\n",
       "      <td>24</td>\n",
       "      <td>Комедийная мелодрама</td>\n",
       "    </tr>\n",
       "    <tr>\n",
       "      <th>4</th>\n",
       "      <td>38</td>\n",
       "      <td>Мистика</td>\n",
       "    </tr>\n",
       "  </tbody>\n",
       "</table>\n",
       "</div>"
      ],
      "text/plain": [
       "   id                  name\n",
       "0   2                Сказка\n",
       "1   8              Здоровье\n",
       "2  17                 Наука\n",
       "3  24  Комедийная мелодрама\n",
       "4  38               Мистика"
      ]
     },
     "metadata": {},
     "output_type": "display_data"
    },
    {
     "data": {
      "text/plain": [
       "(96, 2)"
      ]
     },
     "metadata": {},
     "output_type": "display_data"
    },
    {
     "data": {
      "text/plain": [
       "id       int64\n",
       "name    object\n",
       "dtype: object"
      ]
     },
     "metadata": {},
     "output_type": "display_data"
    },
    {
     "data": {
      "text/html": [
       "<div>\n",
       "<style scoped>\n",
       "    .dataframe tbody tr th:only-of-type {\n",
       "        vertical-align: middle;\n",
       "    }\n",
       "\n",
       "    .dataframe tbody tr th {\n",
       "        vertical-align: top;\n",
       "    }\n",
       "\n",
       "    .dataframe thead th {\n",
       "        text-align: right;\n",
       "    }\n",
       "</style>\n",
       "<table border=\"1\" class=\"dataframe\">\n",
       "  <thead>\n",
       "    <tr style=\"text-align: right;\">\n",
       "      <th></th>\n",
       "      <th>id</th>\n",
       "      <th>name</th>\n",
       "      <th>role</th>\n",
       "    </tr>\n",
       "  </thead>\n",
       "  <tbody>\n",
       "    <tr>\n",
       "      <th>0</th>\n",
       "      <td>0</td>\n",
       "      <td>Юрий Волынцев</td>\n",
       "      <td>actor</td>\n",
       "    </tr>\n",
       "    <tr>\n",
       "      <th>1</th>\n",
       "      <td>1</td>\n",
       "      <td>Коннор Смит</td>\n",
       "      <td>actor</td>\n",
       "    </tr>\n",
       "    <tr>\n",
       "      <th>2</th>\n",
       "      <td>2</td>\n",
       "      <td>Майкл Гандольфини</td>\n",
       "      <td>actor</td>\n",
       "    </tr>\n",
       "    <tr>\n",
       "      <th>3</th>\n",
       "      <td>3</td>\n",
       "      <td>Майкл Маркс</td>\n",
       "      <td>producer</td>\n",
       "    </tr>\n",
       "    <tr>\n",
       "      <th>4</th>\n",
       "      <td>4</td>\n",
       "      <td>Кад Мерад</td>\n",
       "      <td>actor</td>\n",
       "    </tr>\n",
       "  </tbody>\n",
       "</table>\n",
       "</div>"
      ],
      "text/plain": [
       "   id               name      role\n",
       "0   0      Юрий Волынцев     actor\n",
       "1   1        Коннор Смит     actor\n",
       "2   2  Майкл Гандольфини     actor\n",
       "3   3        Майкл Маркс  producer\n",
       "4   4          Кад Мерад     actor"
      ]
     },
     "metadata": {},
     "output_type": "display_data"
    },
    {
     "data": {
      "text/plain": [
       "(35684, 3)"
      ]
     },
     "metadata": {},
     "output_type": "display_data"
    },
    {
     "data": {
      "text/plain": [
       "id       int64\n",
       "name    object\n",
       "role    object\n",
       "dtype: object"
      ]
     },
     "metadata": {},
     "output_type": "display_data"
    }
   ],
   "source": [
    "display_df_main_info(countries)\n",
    "display_df_main_info(genres)\n",
    "display_df_main_info(staff)"
   ]
  },
  {
   "cell_type": "code",
   "execution_count": 8,
   "metadata": {},
   "outputs": [
    {
     "data": {
      "text/html": [
       "<div>\n",
       "<style scoped>\n",
       "    .dataframe tbody tr th:only-of-type {\n",
       "        vertical-align: middle;\n",
       "    }\n",
       "\n",
       "    .dataframe tbody tr th {\n",
       "        vertical-align: top;\n",
       "    }\n",
       "\n",
       "    .dataframe thead th {\n",
       "        text-align: right;\n",
       "    }\n",
       "</style>\n",
       "<table border=\"1\" class=\"dataframe\">\n",
       "  <thead>\n",
       "    <tr style=\"text-align: right;\">\n",
       "      <th></th>\n",
       "      <th>id</th>\n",
       "      <th>datetime</th>\n",
       "      <th>user_id</th>\n",
       "      <th>movie_id</th>\n",
       "      <th>duration</th>\n",
       "    </tr>\n",
       "  </thead>\n",
       "  <tbody>\n",
       "    <tr>\n",
       "      <th>0</th>\n",
       "      <td>0</td>\n",
       "      <td>2023-04-06 15:00:00.071114+03:00</td>\n",
       "      <td>10250</td>\n",
       "      <td>427.0</td>\n",
       "      <td>485.0</td>\n",
       "    </tr>\n",
       "    <tr>\n",
       "      <th>1</th>\n",
       "      <td>1</td>\n",
       "      <td>2023-04-06 15:00:01.123928+03:00</td>\n",
       "      <td>2062</td>\n",
       "      <td>1521.0</td>\n",
       "      <td>129.0</td>\n",
       "    </tr>\n",
       "  </tbody>\n",
       "</table>\n",
       "</div>"
      ],
      "text/plain": [
       "   id                          datetime  user_id  movie_id  duration\n",
       "0   0  2023-04-06 15:00:00.071114+03:00    10250     427.0     485.0\n",
       "1   1  2023-04-06 15:00:01.123928+03:00     2062    1521.0     129.0"
      ]
     },
     "metadata": {},
     "output_type": "display_data"
    },
    {
     "data": {
      "text/plain": [
       "(1251871, 5)"
      ]
     },
     "metadata": {},
     "output_type": "display_data"
    }
   ],
   "source": [
    "display(interactions.head(2))\n",
    "display(interactions.shape)"
   ]
  },
  {
   "cell_type": "code",
   "execution_count": 9,
   "metadata": {},
   "outputs": [
    {
     "data": {
      "text/html": [
       "<div>\n",
       "<style scoped>\n",
       "    .dataframe tbody tr th:only-of-type {\n",
       "        vertical-align: middle;\n",
       "    }\n",
       "\n",
       "    .dataframe tbody tr th {\n",
       "        vertical-align: top;\n",
       "    }\n",
       "\n",
       "    .dataframe thead th {\n",
       "        text-align: right;\n",
       "    }\n",
       "</style>\n",
       "<table border=\"1\" class=\"dataframe\">\n",
       "  <thead>\n",
       "    <tr style=\"text-align: right;\">\n",
       "      <th></th>\n",
       "      <th>user_id</th>\n",
       "      <th>movie_id</th>\n",
       "    </tr>\n",
       "  </thead>\n",
       "  <tbody>\n",
       "    <tr>\n",
       "      <th>0</th>\n",
       "      <td>0</td>\n",
       "      <td>[12.0, 6201.0, 5542.0, 2025.0, 190.0, 5358.0, ...</td>\n",
       "    </tr>\n",
       "    <tr>\n",
       "      <th>1</th>\n",
       "      <td>1</td>\n",
       "      <td>[2515.0, 1540.0, 5210.0, 1608.0, 3590.0, 7215....</td>\n",
       "    </tr>\n",
       "  </tbody>\n",
       "</table>\n",
       "</div>"
      ],
      "text/plain": [
       "   user_id                                           movie_id\n",
       "0        0  [12.0, 6201.0, 5542.0, 2025.0, 190.0, 5358.0, ...\n",
       "1        1  [2515.0, 1540.0, 5210.0, 1608.0, 3590.0, 7215...."
      ]
     },
     "metadata": {},
     "output_type": "display_data"
    },
    {
     "data": {
      "text/plain": [
       "(66900, 2)"
      ]
     },
     "metadata": {},
     "output_type": "display_data"
    }
   ],
   "source": [
    "display(test_df.head(2))\n",
    "display(test_df.shape)"
   ]
  },
  {
   "cell_type": "markdown",
   "metadata": {},
   "source": [
    "# Пользователи"
   ]
  },
  {
   "cell_type": "code",
   "execution_count": 10,
   "metadata": {},
   "outputs": [
    {
     "data": {
      "text/html": [
       "<div>\n",
       "<style scoped>\n",
       "    .dataframe tbody tr th:only-of-type {\n",
       "        vertical-align: middle;\n",
       "    }\n",
       "\n",
       "    .dataframe tbody tr th {\n",
       "        vertical-align: top;\n",
       "    }\n",
       "\n",
       "    .dataframe thead th {\n",
       "        text-align: right;\n",
       "    }\n",
       "</style>\n",
       "<table border=\"1\" class=\"dataframe\">\n",
       "  <thead>\n",
       "    <tr style=\"text-align: right;\">\n",
       "      <th></th>\n",
       "      <th>user_id</th>\n",
       "      <th>age_category</th>\n",
       "      <th>income</th>\n",
       "      <th>sex</th>\n",
       "      <th>kids_flg</th>\n",
       "      <th>education</th>\n",
       "    </tr>\n",
       "  </thead>\n",
       "  <tbody>\n",
       "    <tr>\n",
       "      <th>0</th>\n",
       "      <td>10250</td>\n",
       "      <td>35-44</td>\n",
       "      <td>NaN</td>\n",
       "      <td>NaN</td>\n",
       "      <td>0.0</td>\n",
       "      <td>Высшее</td>\n",
       "    </tr>\n",
       "    <tr>\n",
       "      <th>1</th>\n",
       "      <td>2062</td>\n",
       "      <td>18-24</td>\n",
       "      <td>NaN</td>\n",
       "      <td>Женский</td>\n",
       "      <td>0.0</td>\n",
       "      <td>Среднее</td>\n",
       "    </tr>\n",
       "    <tr>\n",
       "      <th>2</th>\n",
       "      <td>12980</td>\n",
       "      <td>35-44</td>\n",
       "      <td>NaN</td>\n",
       "      <td>Женский</td>\n",
       "      <td>1.0</td>\n",
       "      <td>Неполное высшее</td>\n",
       "    </tr>\n",
       "    <tr>\n",
       "      <th>3</th>\n",
       "      <td>30646</td>\n",
       "      <td>35-44</td>\n",
       "      <td>низкий</td>\n",
       "      <td>NaN</td>\n",
       "      <td>1.0</td>\n",
       "      <td>Высшее</td>\n",
       "    </tr>\n",
       "    <tr>\n",
       "      <th>4</th>\n",
       "      <td>43069</td>\n",
       "      <td>25-34</td>\n",
       "      <td>NaN</td>\n",
       "      <td>Женский</td>\n",
       "      <td>NaN</td>\n",
       "      <td>Высшее</td>\n",
       "    </tr>\n",
       "  </tbody>\n",
       "</table>\n",
       "</div>"
      ],
      "text/plain": [
       "   user_id age_category  income      sex  kids_flg        education\n",
       "0    10250        35-44     NaN      NaN       0.0           Высшее\n",
       "1     2062        18-24     NaN  Женский       0.0          Среднее\n",
       "2    12980        35-44     NaN  Женский       1.0  Неполное высшее\n",
       "3    30646        35-44  низкий      NaN       1.0           Высшее\n",
       "4    43069        25-34     NaN  Женский       NaN           Высшее"
      ]
     },
     "execution_count": 10,
     "metadata": {},
     "output_type": "execute_result"
    }
   ],
   "source": [
    "users.head()"
   ]
  },
  {
   "cell_type": "markdown",
   "metadata": {},
   "source": [
    "Посмотрим в каких столбцах есть незаполненные данные"
   ]
  },
  {
   "cell_type": "code",
   "execution_count": 11,
   "metadata": {},
   "outputs": [
    {
     "name": "stdout",
     "output_type": "stream",
     "text": [
      "user_id: [False]\n",
      "age_category: [False  True]\n",
      "income: [ True False]\n",
      "sex: [ True False]\n",
      "kids_flg: [False  True]\n",
      "education: [False  True]\n"
     ]
    }
   ],
   "source": [
    "for col in users.columns:\n",
    "    print(f\"{col}: {users[col].isna().unique()}\")"
   ]
  },
  {
   "cell_type": "code",
   "execution_count": 12,
   "metadata": {},
   "outputs": [],
   "source": [
    "# Заполняем пропуски\n",
    "users_default_values: Dict[str, Any] = {\n",
    "    \"age_category\": \"unknown\",\n",
    "    \"income\": \"unknown\",\n",
    "    \"sex\": \"unknown\",\n",
    "    \"kids_flg\": -1,\n",
    "    \"education\": \"unknown\",\n",
    "}\n",
    "users.fillna(users_default_values, inplace=True)"
   ]
  },
  {
   "cell_type": "markdown",
   "metadata": {},
   "source": [
    "Посмотрим как количество незаполненных полей соотносится с заполненными "
   ]
  },
  {
   "cell_type": "code",
   "execution_count": 13,
   "metadata": {},
   "outputs": [
    {
     "data": {
      "image/png": "[encoded data removed]",
      "text/plain": [
       "<Figure size 700x500 with 1 Axes>"
      ]
     },
     "metadata": {},
     "output_type": "display_data"
    },
    {
     "data": {
      "image/png": "[encoded data removed]",
      "text/plain": [
       "<Figure size 700x500 with 1 Axes>"
      ]
     },
     "metadata": {},
     "output_type": "display_data"
    },
    {
     "data": {
      "image/png": "[encoded data removed]",
      "text/plain": [
       "<Figure size 700x500 with 1 Axes>"
      ]
     },
     "metadata": {},
     "output_type": "display_data"
    },
    {
     "data": {
      "image/png": "[encoded data removed]",
      "text/plain": [
       "<Figure size 700x500 with 1 Axes>"
      ]
     },
     "metadata": {},
     "output_type": "display_data"
    },
    {
     "data": {
      "image/png": "[encoded data removed]",
      "text/plain": [
       "<Figure size 700x500 with 1 Axes>"
      ]
     },
     "metadata": {},
     "output_type": "display_data"
    }
   ],
   "source": [
    "for col in users.columns[1:]:\n",
    "\n",
    "    plt.figure(figsize=(7, 5))\n",
    "\n",
    "    plt.title(f\"PiePlot {col}\")\n",
    "\n",
    "    \n",
    "    tmp = users[col].value_counts().reset_index()\n",
    "\n",
    "    plt.pie(x=tmp[\"count\"], labels=tmp[col], autopct=\"%1.1f%%\" )\n",
    "    plt.show()"
   ]
  },
  {
   "cell_type": "markdown",
   "metadata": {},
   "source": [
    "В каждом случае unknown занимает большой процент в каждой колонке. Заполнять усредненными данными unknown значения смысла нет &mdash; оставим unknown отдельной категорией (значением) признака."
   ]
  },
  {
   "cell_type": "markdown",
   "metadata": {},
   "source": [
    "### Вывод по таблице users\n",
    "\n",
    "Данная таблица, каждый ее столбец несет в себе смысл и будет использована при построении модели (т.к. в данном случае при рекомендации можно искать похожих пользователей (u2u-стратегия)) \n"
   ]
  },
  {
   "cell_type": "markdown",
   "metadata": {},
   "source": [
    "# Взаимодействия"
   ]
  },
  {
   "cell_type": "code",
   "execution_count": 14,
   "metadata": {},
   "outputs": [
    {
     "data": {
      "text/html": [
       "<div>\n",
       "<style scoped>\n",
       "    .dataframe tbody tr th:only-of-type {\n",
       "        vertical-align: middle;\n",
       "    }\n",
       "\n",
       "    .dataframe tbody tr th {\n",
       "        vertical-align: top;\n",
       "    }\n",
       "\n",
       "    .dataframe thead th {\n",
       "        text-align: right;\n",
       "    }\n",
       "</style>\n",
       "<table border=\"1\" class=\"dataframe\">\n",
       "  <thead>\n",
       "    <tr style=\"text-align: right;\">\n",
       "      <th></th>\n",
       "      <th>id</th>\n",
       "      <th>datetime</th>\n",
       "      <th>user_id</th>\n",
       "      <th>movie_id</th>\n",
       "      <th>duration</th>\n",
       "    </tr>\n",
       "  </thead>\n",
       "  <tbody>\n",
       "    <tr>\n",
       "      <th>0</th>\n",
       "      <td>0</td>\n",
       "      <td>2023-04-06 15:00:00.071114+03:00</td>\n",
       "      <td>10250</td>\n",
       "      <td>427.0</td>\n",
       "      <td>485.0</td>\n",
       "    </tr>\n",
       "  </tbody>\n",
       "</table>\n",
       "</div>"
      ],
      "text/plain": [
       "   id                          datetime  user_id  movie_id  duration\n",
       "0   0  2023-04-06 15:00:00.071114+03:00    10250     427.0     485.0"
      ]
     },
     "execution_count": 14,
     "metadata": {},
     "output_type": "execute_result"
    }
   ],
   "source": [
    "interactions.head(1)"
   ]
  },
  {
   "cell_type": "markdown",
   "metadata": {},
   "source": [
    "Посмотрим в каких столбцах есть незаполненные данные"
   ]
  },
  {
   "cell_type": "code",
   "execution_count": 15,
   "metadata": {},
   "outputs": [
    {
     "name": "stdout",
     "output_type": "stream",
     "text": [
      "id: [False]\n",
      "datetime: [False]\n",
      "user_id: [False]\n",
      "movie_id: [False]\n",
      "duration: [False]\n"
     ]
    }
   ],
   "source": [
    "for col in interactions.columns:\n",
    "    print(f\"{col}: {interactions[col].isna().unique()}\")"
   ]
  },
  {
   "cell_type": "markdown",
   "metadata": {},
   "source": [
    "Все колонки заполнены"
   ]
  },
  {
   "cell_type": "markdown",
   "metadata": {},
   "source": [
    "## Преобразуем для удобства"
   ]
  },
  {
   "cell_type": "code",
   "execution_count": 16,
   "metadata": {},
   "outputs": [
    {
     "data": {
      "text/html": [
       "<div>\n",
       "<style scoped>\n",
       "    .dataframe tbody tr th:only-of-type {\n",
       "        vertical-align: middle;\n",
       "    }\n",
       "\n",
       "    .dataframe tbody tr th {\n",
       "        vertical-align: top;\n",
       "    }\n",
       "\n",
       "    .dataframe thead th {\n",
       "        text-align: right;\n",
       "    }\n",
       "</style>\n",
       "<table border=\"1\" class=\"dataframe\">\n",
       "  <thead>\n",
       "    <tr style=\"text-align: right;\">\n",
       "      <th></th>\n",
       "      <th>datetime</th>\n",
       "      <th>user_id</th>\n",
       "      <th>movie_id</th>\n",
       "      <th>duration</th>\n",
       "    </tr>\n",
       "  </thead>\n",
       "  <tbody>\n",
       "    <tr>\n",
       "      <th>0</th>\n",
       "      <td>2023-04-06 15:00:00.071114+03:00</td>\n",
       "      <td>10250</td>\n",
       "      <td>427</td>\n",
       "      <td>485</td>\n",
       "    </tr>\n",
       "    <tr>\n",
       "      <th>1</th>\n",
       "      <td>2023-04-06 15:00:01.123928+03:00</td>\n",
       "      <td>2062</td>\n",
       "      <td>1521</td>\n",
       "      <td>129</td>\n",
       "    </tr>\n",
       "  </tbody>\n",
       "</table>\n",
       "</div>"
      ],
      "text/plain": [
       "                          datetime  user_id  movie_id  duration\n",
       "0 2023-04-06 15:00:00.071114+03:00    10250       427       485\n",
       "1 2023-04-06 15:00:01.123928+03:00     2062      1521       129"
      ]
     },
     "metadata": {},
     "output_type": "display_data"
    }
   ],
   "source": [
    "interactions[\"datetime\"] = pd.to_datetime(\n",
    "    interactions[\"datetime\"],\n",
    "    format=\"ISO8601\",\n",
    ")\n",
    "interactions[\"movie_id\"] = interactions[\"movie_id\"].apply(np.int64)\n",
    "interactions[\"duration\"] = interactions[\"duration\"].apply(np.int64)\n",
    "interactions = interactions.drop(columns=[\"id\"])\n",
    "\n",
    "display(interactions.head(2))"
   ]
  },
  {
   "cell_type": "markdown",
   "metadata": {},
   "source": [
    "> **Наблюдение** \n",
    ">\n",
    "> Сопоставляя колонку duration с реальной продолжительностью фильма, найденной с помощью поисковика, можно заключить, что duration - это количество секунд, которые пользователь провел за просмотром фильма. "
   ]
  },
  {
   "cell_type": "markdown",
   "metadata": {},
   "source": [
    "## Вывод по таблице interactions\n",
    "\n",
    "В остальном из таблицы можно получить следующее:\n",
    "- период, за который представлены данные,\n",
    "- топ активности пользователей,\n",
    "- топ самых популярных фильмов за период.\n"
   ]
  },
  {
   "cell_type": "markdown",
   "metadata": {},
   "source": [
    "## Посмотрим за какой период представлены данные"
   ]
  },
  {
   "cell_type": "code",
   "execution_count": 17,
   "metadata": {},
   "outputs": [
    {
     "name": "stdout",
     "output_type": "stream",
     "text": [
      "min дата в interactions: 2023-04-06 15:00:00.071114+03:00\n",
      "max дата в interactions: 2023-06-14 23:59:57.679860+03:00\n",
      "Продолжительность: 69 days 08:59:57.608746\n"
     ]
    }
   ],
   "source": [
    "max_date = interactions[\"datetime\"].max()\n",
    "min_date = interactions[\"datetime\"].min()\n",
    "\n",
    "print(f\"min дата в interactions: {min_date}\")\n",
    "print(f\"max дата в interactions: {max_date}\")\n",
    "print(f\"Продолжительность: {max_date - min_date}\")"
   ]
  },
  {
   "cell_type": "markdown",
   "metadata": {},
   "source": [
    "## Выведем топ 10 самых активных пользователей за 69 дней"
   ]
  },
  {
   "cell_type": "code",
   "execution_count": 18,
   "metadata": {},
   "outputs": [
    {
     "data": {
      "text/plain": [
       "array([  5,  21,   6,   4,  41,  51,  28,  38,  10, 263])"
      ]
     },
     "execution_count": 18,
     "metadata": {},
     "output_type": "execute_result"
    }
   ],
   "source": [
    "top_10_users = interactions[\"user_id\"].value_counts().index.values[:10]\n",
    "top_10_users"
   ]
  },
  {
   "cell_type": "markdown",
   "metadata": {},
   "source": [
    "### Гипотеза\n",
    "Например можно взять эвристику, персональный топ оп просмотру данных пользователей.\n",
    "\n",
    "> **ЕСЛИ бы решалась задача оттока пользователей или удержания пользователей на платформе, ТО** можно начислять\\предлагать\\давать какие-либо бонусы самым активным пользователям, чтобы они продолжали активно пользоваться платформой"
   ]
  },
  {
   "cell_type": "markdown",
   "metadata": {},
   "source": [
    "## Выведем топ 10 самых активных пользователей за последюю неделю"
   ]
  },
  {
   "cell_type": "code",
   "execution_count": 19,
   "metadata": {},
   "outputs": [
    {
     "data": {
      "text/plain": [
       "array([4500, 7173, 1163, 1804, 1385, 7429, 1557, 4923, 6495, 9409])"
      ]
     },
     "execution_count": 19,
     "metadata": {},
     "output_type": "execute_result"
    }
   ],
   "source": [
    "top_10_users_week = interactions[\n",
    "    (interactions[\"datetime\"] >= max_date - pd.Timedelta(days=7))\n",
    "][\"user_id\"].value_counts().index.values[:10]\n",
    "top_10_users_week"
   ]
  },
  {
   "cell_type": "markdown",
   "metadata": {},
   "source": [
    "## Выведем 20 самых популярных фильмов за последние 69 дней"
   ]
  },
  {
   "cell_type": "markdown",
   "metadata": {},
   "source": [
    "Предварительно посмотрим в каких столбцах есть незаполненные данные"
   ]
  },
  {
   "cell_type": "code",
   "execution_count": 20,
   "metadata": {},
   "outputs": [
    {
     "name": "stdout",
     "output_type": "stream",
     "text": [
      "id: [False]\n",
      "title: [False]\n",
      "year: [False]\n",
      "date_publication: [False  True]\n",
      "description: [False  True]\n",
      "genres: [False]\n",
      "countries: [False]\n",
      "staff: [False]\n",
      "title_orig: [ True False]\n",
      "age_rating: [ True False]\n",
      "keywords: [ True False]\n"
     ]
    }
   ],
   "source": [
    "for col in items.columns:\n",
    "    print(f\"{col}: {items[col].isna().unique()}\")"
   ]
  },
  {
   "cell_type": "code",
   "execution_count": 21,
   "metadata": {},
   "outputs": [],
   "source": [
    "top_20_pop = interactions[\"movie_id\"].value_counts().index.values[:20]"
   ]
  },
  {
   "cell_type": "markdown",
   "metadata": {},
   "source": [
    "### Предварительно рассмотрим значения таблицы items "
   ]
  },
  {
   "cell_type": "code",
   "execution_count": 22,
   "metadata": {},
   "outputs": [
    {
     "data": {
      "text/html": [
       "<div>\n",
       "<style scoped>\n",
       "    .dataframe tbody tr th:only-of-type {\n",
       "        vertical-align: middle;\n",
       "    }\n",
       "\n",
       "    .dataframe tbody tr th {\n",
       "        vertical-align: top;\n",
       "    }\n",
       "\n",
       "    .dataframe thead th {\n",
       "        text-align: right;\n",
       "    }\n",
       "</style>\n",
       "<table border=\"1\" class=\"dataframe\">\n",
       "  <thead>\n",
       "    <tr style=\"text-align: right;\">\n",
       "      <th></th>\n",
       "      <th>id</th>\n",
       "      <th>title</th>\n",
       "      <th>year</th>\n",
       "      <th>date_publication</th>\n",
       "      <th>description</th>\n",
       "      <th>genres</th>\n",
       "      <th>countries</th>\n",
       "      <th>staff</th>\n",
       "      <th>title_orig</th>\n",
       "      <th>age_rating</th>\n",
       "      <th>keywords</th>\n",
       "    </tr>\n",
       "  </thead>\n",
       "  <tbody>\n",
       "    <tr>\n",
       "      <th>0</th>\n",
       "      <td>0</td>\n",
       "      <td>Мама, я дома</td>\n",
       "      <td>2022-01-01</td>\n",
       "      <td>2022-11-23T00:00:00</td>\n",
       "      <td>Где-то в глубинке вместе с дочерью и внуком жи...</td>\n",
       "      <td>[97]</td>\n",
       "      <td>[238]</td>\n",
       "      <td>[1883, 33655, 25890, 1001, 12051, 10110, 16895]</td>\n",
       "      <td>NaN</td>\n",
       "      <td>NaN</td>\n",
       "      <td>NaN</td>\n",
       "    </tr>\n",
       "  </tbody>\n",
       "</table>\n",
       "</div>"
      ],
      "text/plain": [
       "   id         title        year     date_publication  \\\n",
       "0   0  Мама, я дома  2022-01-01  2022-11-23T00:00:00   \n",
       "\n",
       "                                         description genres countries  \\\n",
       "0  Где-то в глубинке вместе с дочерью и внуком жи...   [97]     [238]   \n",
       "\n",
       "                                             staff title_orig  age_rating  \\\n",
       "0  [1883, 33655, 25890, 1001, 12051, 10110, 16895]        NaN         NaN   \n",
       "\n",
       "  keywords  \n",
       "0      NaN  "
      ]
     },
     "execution_count": 22,
     "metadata": {},
     "output_type": "execute_result"
    }
   ],
   "source": [
    "items.head(1)"
   ]
  },
  {
   "cell_type": "code",
   "execution_count": 23,
   "metadata": {},
   "outputs": [
    {
     "data": {
      "text/plain": [
       "array([False])"
      ]
     },
     "execution_count": 23,
     "metadata": {},
     "output_type": "execute_result"
    }
   ],
   "source": [
    "items[\"year\"].isna().unique()"
   ]
  },
  {
   "cell_type": "markdown",
   "metadata": {},
   "source": [
    "Колонка `year` отображает год выпуска фильма, так что оставим только его "
   ]
  },
  {
   "cell_type": "code",
   "execution_count": 24,
   "metadata": {},
   "outputs": [],
   "source": [
    "items[\"year\"] = pd.to_datetime(items[\"year\"]).apply(lambda x: x.year)"
   ]
  },
  {
   "cell_type": "markdown",
   "metadata": {},
   "source": [
    "### 20 самых популярных фильмов за весь промежуток"
   ]
  },
  {
   "cell_type": "code",
   "execution_count": 25,
   "metadata": {},
   "outputs": [
    {
     "data": {
      "text/html": [
       "<div>\n",
       "<style scoped>\n",
       "    .dataframe tbody tr th:only-of-type {\n",
       "        vertical-align: middle;\n",
       "    }\n",
       "\n",
       "    .dataframe tbody tr th {\n",
       "        vertical-align: top;\n",
       "    }\n",
       "\n",
       "    .dataframe thead th {\n",
       "        text-align: right;\n",
       "    }\n",
       "</style>\n",
       "<table border=\"1\" class=\"dataframe\">\n",
       "  <thead>\n",
       "    <tr style=\"text-align: right;\">\n",
       "      <th></th>\n",
       "      <th>id</th>\n",
       "      <th>title</th>\n",
       "      <th>year</th>\n",
       "      <th>date_publication</th>\n",
       "      <th>description</th>\n",
       "      <th>genres</th>\n",
       "      <th>countries</th>\n",
       "      <th>staff</th>\n",
       "      <th>title_orig</th>\n",
       "      <th>age_rating</th>\n",
       "      <th>keywords</th>\n",
       "    </tr>\n",
       "  </thead>\n",
       "  <tbody>\n",
       "    <tr>\n",
       "      <th>484</th>\n",
       "      <td>484</td>\n",
       "      <td>Аватар: Путь воды</td>\n",
       "      <td>2023</td>\n",
       "      <td>2023-04-19T00:00:00</td>\n",
       "      <td>Джейк Салли живёт в образе аватара уже много л...</td>\n",
       "      <td>[158, 294, 266, 302]</td>\n",
       "      <td>[102]</td>\n",
       "      <td>[15325, 23343, 18928, 23330, 5187, 30892, 1481...</td>\n",
       "      <td>NaN</td>\n",
       "      <td>NaN</td>\n",
       "      <td>NaN</td>\n",
       "    </tr>\n",
       "    <tr>\n",
       "      <th>641</th>\n",
       "      <td>641</td>\n",
       "      <td>Семейный бизнес</td>\n",
       "      <td>2021</td>\n",
       "      <td>2023-04-12T00:00:00</td>\n",
       "      <td>Герою предстоит сложный моральный выбор – помо...</td>\n",
       "      <td>[218]</td>\n",
       "      <td>[102]</td>\n",
       "      <td>[5486, 22716, 19731, 13417, 11081, 31195, 2720...</td>\n",
       "      <td>NaN</td>\n",
       "      <td>NaN</td>\n",
       "      <td>NaN</td>\n",
       "    </tr>\n",
       "    <tr>\n",
       "      <th>1281</th>\n",
       "      <td>1281</td>\n",
       "      <td>13 минут</td>\n",
       "      <td>2021</td>\n",
       "      <td>2023-03-03T00:00:00</td>\n",
       "      <td>Трагическое событие обрушилось на небольшой го...</td>\n",
       "      <td>[97, 303, 294]</td>\n",
       "      <td>[121, 102]</td>\n",
       "      <td>[11572, 2515, 26948, 13185, 2114]</td>\n",
       "      <td>NaN</td>\n",
       "      <td>NaN</td>\n",
       "      <td>NaN</td>\n",
       "    </tr>\n",
       "    <tr>\n",
       "      <th>1521</th>\n",
       "      <td>1521</td>\n",
       "      <td>Миньоны: Грювитация</td>\n",
       "      <td>2022</td>\n",
       "      <td>2023-03-30T00:00:00</td>\n",
       "      <td>Великий и ужасный, но еще маленький Грю начина...</td>\n",
       "      <td>[46, 266, 304, 130]</td>\n",
       "      <td>[102]</td>\n",
       "      <td>[25296, 6034, 13340, 31102, 25501, 12149, 9210...</td>\n",
       "      <td>NaN</td>\n",
       "      <td>NaN</td>\n",
       "      <td>NaN</td>\n",
       "    </tr>\n",
       "    <tr>\n",
       "      <th>1978</th>\n",
       "      <td>1978</td>\n",
       "      <td>Веном 2</td>\n",
       "      <td>2021</td>\n",
       "      <td>2023-03-15T00:00:00</td>\n",
       "      <td>Продолжение истории про Эдди Брока, в которого...</td>\n",
       "      <td>[294, 266, 326]</td>\n",
       "      <td>[117, 102]</td>\n",
       "      <td>[6975, 18398, 32284, 7376, 15174]</td>\n",
       "      <td>NaN</td>\n",
       "      <td>NaN</td>\n",
       "      <td>NaN</td>\n",
       "    </tr>\n",
       "    <tr>\n",
       "      <th>2074</th>\n",
       "      <td>2074</td>\n",
       "      <td>Морбиус</td>\n",
       "      <td>2022</td>\n",
       "      <td>2023-03-13T00:00:00</td>\n",
       "      <td>Будучи десятилетним мальчиком, Майкл Морбиус з...</td>\n",
       "      <td>[294, 266, 326, 302]</td>\n",
       "      <td>[102]</td>\n",
       "      <td>[3186, 23895, 23373, 32494, 25884, 32063, 5121...</td>\n",
       "      <td>NaN</td>\n",
       "      <td>NaN</td>\n",
       "      <td>NaN</td>\n",
       "    </tr>\n",
       "    <tr>\n",
       "      <th>2480</th>\n",
       "      <td>2480</td>\n",
       "      <td>Аватар</td>\n",
       "      <td>2009</td>\n",
       "      <td>2023-01-11T00:00:00</td>\n",
       "      <td>Земляне неспроста стягивают все новые ресурсы ...</td>\n",
       "      <td>[97, 158, 294, 266]</td>\n",
       "      <td>[102]</td>\n",
       "      <td>[29479, 23343, 10655, 21338, 6842, 6340, 17911...</td>\n",
       "      <td>NaN</td>\n",
       "      <td>NaN</td>\n",
       "      <td>NaN</td>\n",
       "    </tr>\n",
       "    <tr>\n",
       "      <th>2679</th>\n",
       "      <td>2679</td>\n",
       "      <td>Вечныe</td>\n",
       "      <td>2021</td>\n",
       "      <td>2023-03-06T00:00:00</td>\n",
       "      <td>Вечные - сверхлюди, которые были созданы целес...</td>\n",
       "      <td>[97, 158, 294, 266, 302]</td>\n",
       "      <td>[102]</td>\n",
       "      <td>[12065, 8040, 28115, 30674, 6454, 27451, 6939,...</td>\n",
       "      <td>NaN</td>\n",
       "      <td>NaN</td>\n",
       "      <td>NaN</td>\n",
       "    </tr>\n",
       "    <tr>\n",
       "      <th>2820</th>\n",
       "      <td>2820</td>\n",
       "      <td>Алёша Попович и Тугарин Змей</td>\n",
       "      <td>2004</td>\n",
       "      <td>2022-01-01T00:00:00</td>\n",
       "      <td>«Алеша Попович и Тугарин Змей» (2004) — семейн...</td>\n",
       "      <td>[261]</td>\n",
       "      <td>[238]</td>\n",
       "      <td>[9540, 4845, 17587, 11083, 5536, 26849, 17882,...</td>\n",
       "      <td>NaN</td>\n",
       "      <td>NaN</td>\n",
       "      <td>NaN</td>\n",
       "    </tr>\n",
       "    <tr>\n",
       "      <th>4090</th>\n",
       "      <td>4090</td>\n",
       "      <td>Старый Генри</td>\n",
       "      <td>2021</td>\n",
       "      <td>2023-04-12T00:00:00</td>\n",
       "      <td>Генри и его сын приютили раненого человека с с...</td>\n",
       "      <td>[218]</td>\n",
       "      <td>[102]</td>\n",
       "      <td>[2500, 33078, 1297, 23112, 26795, 30372, 3453,...</td>\n",
       "      <td>NaN</td>\n",
       "      <td>NaN</td>\n",
       "      <td>NaN</td>\n",
       "    </tr>\n",
       "    <tr>\n",
       "      <th>4687</th>\n",
       "      <td>4687</td>\n",
       "      <td>Соник в кино</td>\n",
       "      <td>2020</td>\n",
       "      <td>2021-06-18T00:00:00</td>\n",
       "      <td>Спасаясь от врагов, быстрый и непоседливый ёж ...</td>\n",
       "      <td>[46, 158, 294, 266]</td>\n",
       "      <td>[121, 102, 166]</td>\n",
       "      <td>[6064, 8200, 7832, 308, 4879, 5251, 17368]</td>\n",
       "      <td>Sonic the Hedgehog</td>\n",
       "      <td>6.0</td>\n",
       "      <td>Соник, кино, 2020, США, безумные, учёные, друз...</td>\n",
       "    </tr>\n",
       "    <tr>\n",
       "      <th>5336</th>\n",
       "      <td>5336</td>\n",
       "      <td>Смерть в Прерии</td>\n",
       "      <td>2022</td>\n",
       "      <td>2023-04-01T00:00:00</td>\n",
       "      <td>Конец XIX века – не самый благополучный период...</td>\n",
       "      <td>[97, 303, 218]</td>\n",
       "      <td>[102]</td>\n",
       "      <td>[7995, 8261, 27514, 18814, 13861]</td>\n",
       "      <td>NaN</td>\n",
       "      <td>NaN</td>\n",
       "      <td>NaN</td>\n",
       "    </tr>\n",
       "    <tr>\n",
       "      <th>5707</th>\n",
       "      <td>5707</td>\n",
       "      <td>Мортал Комбат</td>\n",
       "      <td>2021</td>\n",
       "      <td>2023-01-12T00:00:00</td>\n",
       "      <td>Боец смешанных единоборств Коул Янг узнаёт о с...</td>\n",
       "      <td>[294, 302]</td>\n",
       "      <td>[104, 102]</td>\n",
       "      <td>[35371, 35361, 15546, 25332, 35129, 24500]</td>\n",
       "      <td>NaN</td>\n",
       "      <td>NaN</td>\n",
       "      <td>NaN</td>\n",
       "    </tr>\n",
       "    <tr>\n",
       "      <th>5712</th>\n",
       "      <td>5712</td>\n",
       "      <td>Сезон измен</td>\n",
       "      <td>2017</td>\n",
       "      <td>2023-03-01T00:00:00</td>\n",
       "      <td>На первый взгляд Джим и Даниэль, также как Иво...</td>\n",
       "      <td>[138, 97]</td>\n",
       "      <td>[81]</td>\n",
       "      <td>[31808, 13932, 4871, 15292, 1150, 11310]</td>\n",
       "      <td>NaN</td>\n",
       "      <td>NaN</td>\n",
       "      <td>NaN</td>\n",
       "    </tr>\n",
       "    <tr>\n",
       "      <th>5755</th>\n",
       "      <td>5755</td>\n",
       "      <td>Форсаж 9</td>\n",
       "      <td>2021</td>\n",
       "      <td>2023-03-16T00:00:00</td>\n",
       "      <td>Доминик Торетто, Летти и Брайан тихо живут в г...</td>\n",
       "      <td>[294]</td>\n",
       "      <td>[102]</td>\n",
       "      <td>[31600, 23895, 28887, 17116, 10121]</td>\n",
       "      <td>NaN</td>\n",
       "      <td>NaN</td>\n",
       "      <td>NaN</td>\n",
       "    </tr>\n",
       "    <tr>\n",
       "      <th>5849</th>\n",
       "      <td>5849</td>\n",
       "      <td>Дочь волка</td>\n",
       "      <td>2019</td>\n",
       "      <td>2023-04-01T00:00:00</td>\n",
       "      <td>Клэр возвращается домой из поездки по Ближнему...</td>\n",
       "      <td>[85, 294]</td>\n",
       "      <td>[121]</td>\n",
       "      <td>[4378, 5332, 16814, 7345, 20828, 28334, 14294,...</td>\n",
       "      <td>Daughter of the Wolf</td>\n",
       "      <td>18.0</td>\n",
       "      <td>2019, канада, дочь, волка</td>\n",
       "    </tr>\n",
       "    <tr>\n",
       "      <th>5876</th>\n",
       "      <td>5876</td>\n",
       "      <td>Черная пантера: Ваканда навсегда</td>\n",
       "      <td>2022</td>\n",
       "      <td>2023-03-27T00:00:00</td>\n",
       "      <td>Картина является продолжением фильма \"Чёрная п...</td>\n",
       "      <td>[97, 294, 266]</td>\n",
       "      <td>[102]</td>\n",
       "      <td>[11502, 9496, 19471, 11919, 662, 12551, 8933]</td>\n",
       "      <td>NaN</td>\n",
       "      <td>NaN</td>\n",
       "      <td>NaN</td>\n",
       "    </tr>\n",
       "    <tr>\n",
       "      <th>5918</th>\n",
       "      <td>5918</td>\n",
       "      <td>Тор: Любовь и гром</td>\n",
       "      <td>2022</td>\n",
       "      <td>2023-03-13T00:00:00</td>\n",
       "      <td>Тор и Корг путешествуют со Стражами Галактики,...</td>\n",
       "      <td>[158, 294, 302]</td>\n",
       "      <td>[102]</td>\n",
       "      <td>[11022, 2064, 7069, 7513, 35661, 28503]</td>\n",
       "      <td>NaN</td>\n",
       "      <td>NaN</td>\n",
       "      <td>NaN</td>\n",
       "    </tr>\n",
       "    <tr>\n",
       "      <th>6091</th>\n",
       "      <td>6091</td>\n",
       "      <td>Апгрейд. Цифровой солдат</td>\n",
       "      <td>2021</td>\n",
       "      <td>2023-04-01T00:00:00</td>\n",
       "      <td>Телохранитель Лун старается всячески избегать ...</td>\n",
       "      <td>[294, 266]</td>\n",
       "      <td>[117]</td>\n",
       "      <td>[33704, 18345, 15578, 31842, 24022]</td>\n",
       "      <td>NaN</td>\n",
       "      <td>NaN</td>\n",
       "      <td>NaN</td>\n",
       "    </tr>\n",
       "    <tr>\n",
       "      <th>6194</th>\n",
       "      <td>6194</td>\n",
       "      <td>Нюрнберг</td>\n",
       "      <td>2023</td>\n",
       "      <td>2023-04-21T00:00:00</td>\n",
       "      <td>Советская делегация пытается помешать тайным а...</td>\n",
       "      <td>[97, 303, 143, 319]</td>\n",
       "      <td>[122, 188, 238, 20]</td>\n",
       "      <td>[2590, 33845, 11031, 26970, 15345]</td>\n",
       "      <td>NaN</td>\n",
       "      <td>NaN</td>\n",
       "      <td>NaN</td>\n",
       "    </tr>\n",
       "  </tbody>\n",
       "</table>\n",
       "</div>"
      ],
      "text/plain": [
       "        id                             title  year     date_publication  \\\n",
       "484    484                 Аватар: Путь воды  2023  2023-04-19T00:00:00   \n",
       "641    641                   Семейный бизнес  2021  2023-04-12T00:00:00   \n",
       "1281  1281                          13 минут  2021  2023-03-03T00:00:00   \n",
       "1521  1521               Миньоны: Грювитация  2022  2023-03-30T00:00:00   \n",
       "1978  1978                           Веном 2  2021  2023-03-15T00:00:00   \n",
       "2074  2074                           Морбиус  2022  2023-03-13T00:00:00   \n",
       "2480  2480                            Аватар  2009  2023-01-11T00:00:00   \n",
       "2679  2679                            Вечныe  2021  2023-03-06T00:00:00   \n",
       "2820  2820      Алёша Попович и Тугарин Змей  2004  2022-01-01T00:00:00   \n",
       "4090  4090                      Старый Генри  2021  2023-04-12T00:00:00   \n",
       "4687  4687                      Соник в кино  2020  2021-06-18T00:00:00   \n",
       "5336  5336                   Смерть в Прерии  2022  2023-04-01T00:00:00   \n",
       "5707  5707                     Мортал Комбат  2021  2023-01-12T00:00:00   \n",
       "5712  5712                       Сезон измен  2017  2023-03-01T00:00:00   \n",
       "5755  5755                          Форсаж 9  2021  2023-03-16T00:00:00   \n",
       "5849  5849                        Дочь волка  2019  2023-04-01T00:00:00   \n",
       "5876  5876  Черная пантера: Ваканда навсегда  2022  2023-03-27T00:00:00   \n",
       "5918  5918                Тор: Любовь и гром  2022  2023-03-13T00:00:00   \n",
       "6091  6091          Апгрейд. Цифровой солдат  2021  2023-04-01T00:00:00   \n",
       "6194  6194                          Нюрнберг  2023  2023-04-21T00:00:00   \n",
       "\n",
       "                                            description  \\\n",
       "484   Джейк Салли живёт в образе аватара уже много л...   \n",
       "641   Герою предстоит сложный моральный выбор – помо...   \n",
       "1281  Трагическое событие обрушилось на небольшой го...   \n",
       "1521  Великий и ужасный, но еще маленький Грю начина...   \n",
       "1978  Продолжение истории про Эдди Брока, в которого...   \n",
       "2074  Будучи десятилетним мальчиком, Майкл Морбиус з...   \n",
       "2480  Земляне неспроста стягивают все новые ресурсы ...   \n",
       "2679  Вечные - сверхлюди, которые были созданы целес...   \n",
       "2820  «Алеша Попович и Тугарин Змей» (2004) — семейн...   \n",
       "4090  Генри и его сын приютили раненого человека с с...   \n",
       "4687  Спасаясь от врагов, быстрый и непоседливый ёж ...   \n",
       "5336  Конец XIX века – не самый благополучный период...   \n",
       "5707  Боец смешанных единоборств Коул Янг узнаёт о с...   \n",
       "5712  На первый взгляд Джим и Даниэль, также как Иво...   \n",
       "5755  Доминик Торетто, Летти и Брайан тихо живут в г...   \n",
       "5849  Клэр возвращается домой из поездки по Ближнему...   \n",
       "5876  Картина является продолжением фильма \"Чёрная п...   \n",
       "5918  Тор и Корг путешествуют со Стражами Галактики,...   \n",
       "6091  Телохранитель Лун старается всячески избегать ...   \n",
       "6194  Советская делегация пытается помешать тайным а...   \n",
       "\n",
       "                        genres            countries  \\\n",
       "484       [158, 294, 266, 302]                [102]   \n",
       "641                      [218]                [102]   \n",
       "1281            [97, 303, 294]           [121, 102]   \n",
       "1521       [46, 266, 304, 130]                [102]   \n",
       "1978           [294, 266, 326]           [117, 102]   \n",
       "2074      [294, 266, 326, 302]                [102]   \n",
       "2480       [97, 158, 294, 266]                [102]   \n",
       "2679  [97, 158, 294, 266, 302]                [102]   \n",
       "2820                     [261]                [238]   \n",
       "4090                     [218]                [102]   \n",
       "4687       [46, 158, 294, 266]      [121, 102, 166]   \n",
       "5336            [97, 303, 218]                [102]   \n",
       "5707                [294, 302]           [104, 102]   \n",
       "5712                 [138, 97]                 [81]   \n",
       "5755                     [294]                [102]   \n",
       "5849                 [85, 294]                [121]   \n",
       "5876            [97, 294, 266]                [102]   \n",
       "5918           [158, 294, 302]                [102]   \n",
       "6091                [294, 266]                [117]   \n",
       "6194       [97, 303, 143, 319]  [122, 188, 238, 20]   \n",
       "\n",
       "                                                  staff            title_orig  \\\n",
       "484   [15325, 23343, 18928, 23330, 5187, 30892, 1481...                   NaN   \n",
       "641   [5486, 22716, 19731, 13417, 11081, 31195, 2720...                   NaN   \n",
       "1281                  [11572, 2515, 26948, 13185, 2114]                   NaN   \n",
       "1521  [25296, 6034, 13340, 31102, 25501, 12149, 9210...                   NaN   \n",
       "1978                  [6975, 18398, 32284, 7376, 15174]                   NaN   \n",
       "2074  [3186, 23895, 23373, 32494, 25884, 32063, 5121...                   NaN   \n",
       "2480  [29479, 23343, 10655, 21338, 6842, 6340, 17911...                   NaN   \n",
       "2679  [12065, 8040, 28115, 30674, 6454, 27451, 6939,...                   NaN   \n",
       "2820  [9540, 4845, 17587, 11083, 5536, 26849, 17882,...                   NaN   \n",
       "4090  [2500, 33078, 1297, 23112, 26795, 30372, 3453,...                   NaN   \n",
       "4687         [6064, 8200, 7832, 308, 4879, 5251, 17368]    Sonic the Hedgehog   \n",
       "5336                  [7995, 8261, 27514, 18814, 13861]                   NaN   \n",
       "5707         [35371, 35361, 15546, 25332, 35129, 24500]                   NaN   \n",
       "5712           [31808, 13932, 4871, 15292, 1150, 11310]                   NaN   \n",
       "5755                [31600, 23895, 28887, 17116, 10121]                   NaN   \n",
       "5849  [4378, 5332, 16814, 7345, 20828, 28334, 14294,...  Daughter of the Wolf   \n",
       "5876      [11502, 9496, 19471, 11919, 662, 12551, 8933]                   NaN   \n",
       "5918            [11022, 2064, 7069, 7513, 35661, 28503]                   NaN   \n",
       "6091                [33704, 18345, 15578, 31842, 24022]                   NaN   \n",
       "6194                 [2590, 33845, 11031, 26970, 15345]                   NaN   \n",
       "\n",
       "      age_rating                                           keywords  \n",
       "484          NaN                                                NaN  \n",
       "641          NaN                                                NaN  \n",
       "1281         NaN                                                NaN  \n",
       "1521         NaN                                                NaN  \n",
       "1978         NaN                                                NaN  \n",
       "2074         NaN                                                NaN  \n",
       "2480         NaN                                                NaN  \n",
       "2679         NaN                                                NaN  \n",
       "2820         NaN                                                NaN  \n",
       "4090         NaN                                                NaN  \n",
       "4687         6.0  Соник, кино, 2020, США, безумные, учёные, друз...  \n",
       "5336         NaN                                                NaN  \n",
       "5707         NaN                                                NaN  \n",
       "5712         NaN                                                NaN  \n",
       "5755         NaN                                                NaN  \n",
       "5849        18.0                          2019, канада, дочь, волка  \n",
       "5876         NaN                                                NaN  \n",
       "5918         NaN                                                NaN  \n",
       "6091         NaN                                                NaN  \n",
       "6194         NaN                                                NaN  "
      ]
     },
     "execution_count": 25,
     "metadata": {},
     "output_type": "execute_result"
    }
   ],
   "source": [
    "items[items[\"id\"].isin(top_20_pop)]"
   ]
  },
  {
   "cell_type": "markdown",
   "metadata": {},
   "source": [
    "## Выведем 10 самых популярных фильмов за последниюю неделю"
   ]
  },
  {
   "cell_type": "code",
   "execution_count": 26,
   "metadata": {},
   "outputs": [
    {
     "data": {
      "text/plain": [
       "array([3415,  641, 5849, 1281, 4991, 2820, 6194,  484,  805,  475, 3092,\n",
       "       3492, 5571, 1978, 1226, 4505, 1769, 2775, 6984, 3896])"
      ]
     },
     "execution_count": 26,
     "metadata": {},
     "output_type": "execute_result"
    }
   ],
   "source": [
    "top_20_items_week = interactions[\n",
    "    (interactions[\"datetime\"] >= max_date - pd.Timedelta(days=7))\n",
    "][\"movie_id\"].value_counts().index.values[:20]\n",
    "top_20_items_week"
   ]
  },
  {
   "cell_type": "code",
   "execution_count": 27,
   "metadata": {},
   "outputs": [
    {
     "data": {
      "text/html": [
       "<div>\n",
       "<style scoped>\n",
       "    .dataframe tbody tr th:only-of-type {\n",
       "        vertical-align: middle;\n",
       "    }\n",
       "\n",
       "    .dataframe tbody tr th {\n",
       "        vertical-align: top;\n",
       "    }\n",
       "\n",
       "    .dataframe thead th {\n",
       "        text-align: right;\n",
       "    }\n",
       "</style>\n",
       "<table border=\"1\" class=\"dataframe\">\n",
       "  <thead>\n",
       "    <tr style=\"text-align: right;\">\n",
       "      <th></th>\n",
       "      <th>id</th>\n",
       "      <th>title</th>\n",
       "      <th>year</th>\n",
       "      <th>date_publication</th>\n",
       "      <th>description</th>\n",
       "      <th>genres</th>\n",
       "      <th>countries</th>\n",
       "      <th>staff</th>\n",
       "      <th>title_orig</th>\n",
       "      <th>age_rating</th>\n",
       "      <th>keywords</th>\n",
       "    </tr>\n",
       "  </thead>\n",
       "  <tbody>\n",
       "    <tr>\n",
       "      <th>475</th>\n",
       "      <td>475</td>\n",
       "      <td>2012</td>\n",
       "      <td>2009</td>\n",
       "      <td>2023-06-19T00:00:00</td>\n",
       "      <td>А что, если индейцы майя не ошиблись, и в 2012...</td>\n",
       "      <td>[294, 266]</td>\n",
       "      <td>[102]</td>\n",
       "      <td>[18749, 19419, 15503, 9945, 23076, 31293]</td>\n",
       "      <td>2012</td>\n",
       "      <td>16.0</td>\n",
       "      <td>цивилизация, гонка со временем, стихийное бедс...</td>\n",
       "    </tr>\n",
       "    <tr>\n",
       "      <th>484</th>\n",
       "      <td>484</td>\n",
       "      <td>Аватар: Путь воды</td>\n",
       "      <td>2023</td>\n",
       "      <td>2023-04-19T00:00:00</td>\n",
       "      <td>Джейк Салли живёт в образе аватара уже много л...</td>\n",
       "      <td>[158, 294, 266, 302]</td>\n",
       "      <td>[102]</td>\n",
       "      <td>[15325, 23343, 18928, 23330, 5187, 30892, 1481...</td>\n",
       "      <td>NaN</td>\n",
       "      <td>NaN</td>\n",
       "      <td>NaN</td>\n",
       "    </tr>\n",
       "    <tr>\n",
       "      <th>641</th>\n",
       "      <td>641</td>\n",
       "      <td>Семейный бизнес</td>\n",
       "      <td>2021</td>\n",
       "      <td>2023-04-12T00:00:00</td>\n",
       "      <td>Герою предстоит сложный моральный выбор – помо...</td>\n",
       "      <td>[218]</td>\n",
       "      <td>[102]</td>\n",
       "      <td>[5486, 22716, 19731, 13417, 11081, 31195, 2720...</td>\n",
       "      <td>NaN</td>\n",
       "      <td>NaN</td>\n",
       "      <td>NaN</td>\n",
       "    </tr>\n",
       "    <tr>\n",
       "      <th>805</th>\n",
       "      <td>805</td>\n",
       "      <td>Охотник на монстров</td>\n",
       "      <td>2021</td>\n",
       "      <td>2023-03-15T00:00:00</td>\n",
       "      <td>Адаптация знаменитой видеоигры, в центре сюжет...</td>\n",
       "      <td>[294, 302]</td>\n",
       "      <td>[188, 117, 102, 166]</td>\n",
       "      <td>[19177, 8710, 19663, 3872, 34318]</td>\n",
       "      <td>Monster hunter</td>\n",
       "      <td>16.0</td>\n",
       "      <td>женщина-солдат, другое измерение, лук и стрела...</td>\n",
       "    </tr>\n",
       "    <tr>\n",
       "      <th>1226</th>\n",
       "      <td>1226</td>\n",
       "      <td>Иван Царевич и Серый Волк</td>\n",
       "      <td>2011</td>\n",
       "      <td>2022-01-01T00:00:00</td>\n",
       "      <td>Однажды Иван Царевич решает заглянуть в Тридев...</td>\n",
       "      <td>[158, 261]</td>\n",
       "      <td>[238]</td>\n",
       "      <td>[13165, 11604, 3722, 21988, 32097, 23400, 2692...</td>\n",
       "      <td>NaN</td>\n",
       "      <td>NaN</td>\n",
       "      <td>NaN</td>\n",
       "    </tr>\n",
       "    <tr>\n",
       "      <th>1281</th>\n",
       "      <td>1281</td>\n",
       "      <td>13 минут</td>\n",
       "      <td>2021</td>\n",
       "      <td>2023-03-03T00:00:00</td>\n",
       "      <td>Трагическое событие обрушилось на небольшой го...</td>\n",
       "      <td>[97, 303, 294]</td>\n",
       "      <td>[121, 102]</td>\n",
       "      <td>[11572, 2515, 26948, 13185, 2114]</td>\n",
       "      <td>NaN</td>\n",
       "      <td>NaN</td>\n",
       "      <td>NaN</td>\n",
       "    </tr>\n",
       "    <tr>\n",
       "      <th>1769</th>\n",
       "      <td>1769</td>\n",
       "      <td>Гарфилд</td>\n",
       "      <td>2004</td>\n",
       "      <td>2023-01-11T00:00:00</td>\n",
       "      <td>Жизнь кота Гарфилда кардинально меняется, когд...</td>\n",
       "      <td>[46, 261]</td>\n",
       "      <td>[102]</td>\n",
       "      <td>[29653, 31246, 23775, 23192, 30865, 28016, 564...</td>\n",
       "      <td>NaN</td>\n",
       "      <td>6.0</td>\n",
       "      <td>Гарфилд, 2019, Франция, друзья, кошки, собаки,...</td>\n",
       "    </tr>\n",
       "    <tr>\n",
       "      <th>1978</th>\n",
       "      <td>1978</td>\n",
       "      <td>Веном 2</td>\n",
       "      <td>2021</td>\n",
       "      <td>2023-03-15T00:00:00</td>\n",
       "      <td>Продолжение истории про Эдди Брока, в которого...</td>\n",
       "      <td>[294, 266, 326]</td>\n",
       "      <td>[117, 102]</td>\n",
       "      <td>[6975, 18398, 32284, 7376, 15174]</td>\n",
       "      <td>NaN</td>\n",
       "      <td>NaN</td>\n",
       "      <td>NaN</td>\n",
       "    </tr>\n",
       "    <tr>\n",
       "      <th>2775</th>\n",
       "      <td>2775</td>\n",
       "      <td>Человек на Луне</td>\n",
       "      <td>2018</td>\n",
       "      <td>2023-03-20T00:00:00</td>\n",
       "      <td>История высадки на Луну астронавта Нила Армстр...</td>\n",
       "      <td>[97, 124]</td>\n",
       "      <td>[117, 102, 166]</td>\n",
       "      <td>[33567, 6183, 10279, 11664, 8475, 34785, 29811...</td>\n",
       "      <td>First Man</td>\n",
       "      <td>12.0</td>\n",
       "      <td>луна, основанная на романе или книге, НАСА, од...</td>\n",
       "    </tr>\n",
       "    <tr>\n",
       "      <th>2820</th>\n",
       "      <td>2820</td>\n",
       "      <td>Алёша Попович и Тугарин Змей</td>\n",
       "      <td>2004</td>\n",
       "      <td>2022-01-01T00:00:00</td>\n",
       "      <td>«Алеша Попович и Тугарин Змей» (2004) — семейн...</td>\n",
       "      <td>[261]</td>\n",
       "      <td>[238]</td>\n",
       "      <td>[9540, 4845, 17587, 11083, 5536, 26849, 17882,...</td>\n",
       "      <td>NaN</td>\n",
       "      <td>NaN</td>\n",
       "      <td>NaN</td>\n",
       "    </tr>\n",
       "    <tr>\n",
       "      <th>3092</th>\n",
       "      <td>3092</td>\n",
       "      <td>Эйфель</td>\n",
       "      <td>2021</td>\n",
       "      <td>2023-06-05T00:00:00</td>\n",
       "      <td>Всю жизнь Гюстав Эйфель любит Адрианну. Роман ...</td>\n",
       "      <td>[138, 97, 124, 319]</td>\n",
       "      <td>[175, 188, 0]</td>\n",
       "      <td>[]</td>\n",
       "      <td>NaN</td>\n",
       "      <td>NaN</td>\n",
       "      <td>NaN</td>\n",
       "    </tr>\n",
       "    <tr>\n",
       "      <th>3415</th>\n",
       "      <td>3415</td>\n",
       "      <td>Смертельный звонок</td>\n",
       "      <td>2022</td>\n",
       "      <td>2023-05-11T00:00:00</td>\n",
       "      <td>Леденящая душу история о школьном монстре в го...</td>\n",
       "      <td>[326]</td>\n",
       "      <td>[102]</td>\n",
       "      <td>[]</td>\n",
       "      <td>NaN</td>\n",
       "      <td>NaN</td>\n",
       "      <td>NaN</td>\n",
       "    </tr>\n",
       "    <tr>\n",
       "      <th>3492</th>\n",
       "      <td>3492</td>\n",
       "      <td>Пустой человек</td>\n",
       "      <td>2020</td>\n",
       "      <td>2023-01-12T00:00:00</td>\n",
       "      <td>Полицейский Джеймс Ласомбра пережил ужасную тр...</td>\n",
       "      <td>[72, 326]</td>\n",
       "      <td>[122, 102, 146]</td>\n",
       "      <td>[32235, 3682, 31280, 29958, 11859]</td>\n",
       "      <td>The Empty Man</td>\n",
       "      <td>18.0</td>\n",
       "      <td>по мотивам графического романа, 2020, соединен...</td>\n",
       "    </tr>\n",
       "    <tr>\n",
       "      <th>3896</th>\n",
       "      <td>3896</td>\n",
       "      <td>Три богатыря: На дальних берегах</td>\n",
       "      <td>2012</td>\n",
       "      <td>2022-01-01T00:00:00</td>\n",
       "      <td>Колыван возвращается в Киев и вместе с Бабой Я...</td>\n",
       "      <td>[158, 261]</td>\n",
       "      <td>[238]</td>\n",
       "      <td>[17882, 21698, 4845, 1194, 11083, 32647, 10334...</td>\n",
       "      <td>NaN</td>\n",
       "      <td>NaN</td>\n",
       "      <td>NaN</td>\n",
       "    </tr>\n",
       "    <tr>\n",
       "      <th>4505</th>\n",
       "      <td>4505</td>\n",
       "      <td>Такси: Гора сокровищ</td>\n",
       "      <td>2019</td>\n",
       "      <td>2023-04-19T00:00:00</td>\n",
       "      <td>Жажда наживы и приключений сводит трёх незнако...</td>\n",
       "      <td>[46, 158]</td>\n",
       "      <td>[245, 242]</td>\n",
       "      <td>[5197, 2502, 23304, 19706, 32199]</td>\n",
       "      <td>NaN</td>\n",
       "      <td>NaN</td>\n",
       "      <td>NaN</td>\n",
       "    </tr>\n",
       "    <tr>\n",
       "      <th>4991</th>\n",
       "      <td>4991</td>\n",
       "      <td>Круиз по джунглям</td>\n",
       "      <td>2021</td>\n",
       "      <td>2023-01-12T00:00:00</td>\n",
       "      <td>Лили Хоутон исследует дикую природу. Сейчас ей...</td>\n",
       "      <td>[46, 158, 302]</td>\n",
       "      <td>[102]</td>\n",
       "      <td>[30724, 32967, 34036, 21694, 7812, 30945]</td>\n",
       "      <td>NaN</td>\n",
       "      <td>NaN</td>\n",
       "      <td>NaN</td>\n",
       "    </tr>\n",
       "    <tr>\n",
       "      <th>5571</th>\n",
       "      <td>5571</td>\n",
       "      <td>Три богатыря и наследница престола</td>\n",
       "      <td>2018</td>\n",
       "      <td>2022-01-01T00:00:00</td>\n",
       "      <td>Киевскому князю нездоровится. Он задумывается ...</td>\n",
       "      <td>[158, 261]</td>\n",
       "      <td>[238]</td>\n",
       "      <td>[4845, 17587, 30958, 11083, 6857, 2971, 881, 2...</td>\n",
       "      <td>NaN</td>\n",
       "      <td>NaN</td>\n",
       "      <td>NaN</td>\n",
       "    </tr>\n",
       "    <tr>\n",
       "      <th>5849</th>\n",
       "      <td>5849</td>\n",
       "      <td>Дочь волка</td>\n",
       "      <td>2019</td>\n",
       "      <td>2023-04-01T00:00:00</td>\n",
       "      <td>Клэр возвращается домой из поездки по Ближнему...</td>\n",
       "      <td>[85, 294]</td>\n",
       "      <td>[121]</td>\n",
       "      <td>[4378, 5332, 16814, 7345, 20828, 28334, 14294,...</td>\n",
       "      <td>Daughter of the Wolf</td>\n",
       "      <td>18.0</td>\n",
       "      <td>2019, канада, дочь, волка</td>\n",
       "    </tr>\n",
       "    <tr>\n",
       "      <th>6194</th>\n",
       "      <td>6194</td>\n",
       "      <td>Нюрнберг</td>\n",
       "      <td>2023</td>\n",
       "      <td>2023-04-21T00:00:00</td>\n",
       "      <td>Советская делегация пытается помешать тайным а...</td>\n",
       "      <td>[97, 303, 143, 319]</td>\n",
       "      <td>[122, 188, 238, 20]</td>\n",
       "      <td>[2590, 33845, 11031, 26970, 15345]</td>\n",
       "      <td>NaN</td>\n",
       "      <td>NaN</td>\n",
       "      <td>NaN</td>\n",
       "    </tr>\n",
       "    <tr>\n",
       "      <th>6984</th>\n",
       "      <td>6984</td>\n",
       "      <td>Быстрее пули</td>\n",
       "      <td>2022</td>\n",
       "      <td>2023-03-13T00:00:00</td>\n",
       "      <td>Уставший наёмник отправляется на очередную мис...</td>\n",
       "      <td>[46, 294]</td>\n",
       "      <td>[102]</td>\n",
       "      <td>[34555, 9199, 6939, 9629, 2831]</td>\n",
       "      <td>Faster</td>\n",
       "      <td>18.0</td>\n",
       "      <td>заключенный, наемный убийца, полиция, стрельба...</td>\n",
       "    </tr>\n",
       "  </tbody>\n",
       "</table>\n",
       "</div>"
      ],
      "text/plain": [
       "        id                               title  year     date_publication  \\\n",
       "475    475                                2012  2009  2023-06-19T00:00:00   \n",
       "484    484                   Аватар: Путь воды  2023  2023-04-19T00:00:00   \n",
       "641    641                     Семейный бизнес  2021  2023-04-12T00:00:00   \n",
       "805    805                 Охотник на монстров  2021  2023-03-15T00:00:00   \n",
       "1226  1226           Иван Царевич и Серый Волк  2011  2022-01-01T00:00:00   \n",
       "1281  1281                            13 минут  2021  2023-03-03T00:00:00   \n",
       "1769  1769                             Гарфилд  2004  2023-01-11T00:00:00   \n",
       "1978  1978                             Веном 2  2021  2023-03-15T00:00:00   \n",
       "2775  2775                     Человек на Луне  2018  2023-03-20T00:00:00   \n",
       "2820  2820        Алёша Попович и Тугарин Змей  2004  2022-01-01T00:00:00   \n",
       "3092  3092                              Эйфель  2021  2023-06-05T00:00:00   \n",
       "3415  3415                  Смертельный звонок  2022  2023-05-11T00:00:00   \n",
       "3492  3492                      Пустой человек  2020  2023-01-12T00:00:00   \n",
       "3896  3896    Три богатыря: На дальних берегах  2012  2022-01-01T00:00:00   \n",
       "4505  4505                Такси: Гора сокровищ  2019  2023-04-19T00:00:00   \n",
       "4991  4991                   Круиз по джунглям  2021  2023-01-12T00:00:00   \n",
       "5571  5571  Три богатыря и наследница престола  2018  2022-01-01T00:00:00   \n",
       "5849  5849                          Дочь волка  2019  2023-04-01T00:00:00   \n",
       "6194  6194                            Нюрнберг  2023  2023-04-21T00:00:00   \n",
       "6984  6984                        Быстрее пули  2022  2023-03-13T00:00:00   \n",
       "\n",
       "                                            description                genres  \\\n",
       "475   А что, если индейцы майя не ошиблись, и в 2012...            [294, 266]   \n",
       "484   Джейк Салли живёт в образе аватара уже много л...  [158, 294, 266, 302]   \n",
       "641   Герою предстоит сложный моральный выбор – помо...                 [218]   \n",
       "805   Адаптация знаменитой видеоигры, в центре сюжет...            [294, 302]   \n",
       "1226  Однажды Иван Царевич решает заглянуть в Тридев...            [158, 261]   \n",
       "1281  Трагическое событие обрушилось на небольшой го...        [97, 303, 294]   \n",
       "1769  Жизнь кота Гарфилда кардинально меняется, когд...             [46, 261]   \n",
       "1978  Продолжение истории про Эдди Брока, в которого...       [294, 266, 326]   \n",
       "2775  История высадки на Луну астронавта Нила Армстр...             [97, 124]   \n",
       "2820  «Алеша Попович и Тугарин Змей» (2004) — семейн...                 [261]   \n",
       "3092  Всю жизнь Гюстав Эйфель любит Адрианну. Роман ...   [138, 97, 124, 319]   \n",
       "3415  Леденящая душу история о школьном монстре в го...                 [326]   \n",
       "3492  Полицейский Джеймс Ласомбра пережил ужасную тр...             [72, 326]   \n",
       "3896  Колыван возвращается в Киев и вместе с Бабой Я...            [158, 261]   \n",
       "4505  Жажда наживы и приключений сводит трёх незнако...             [46, 158]   \n",
       "4991  Лили Хоутон исследует дикую природу. Сейчас ей...        [46, 158, 302]   \n",
       "5571  Киевскому князю нездоровится. Он задумывается ...            [158, 261]   \n",
       "5849  Клэр возвращается домой из поездки по Ближнему...             [85, 294]   \n",
       "6194  Советская делегация пытается помешать тайным а...   [97, 303, 143, 319]   \n",
       "6984  Уставший наёмник отправляется на очередную мис...             [46, 294]   \n",
       "\n",
       "                 countries                                              staff  \\\n",
       "475                  [102]          [18749, 19419, 15503, 9945, 23076, 31293]   \n",
       "484                  [102]  [15325, 23343, 18928, 23330, 5187, 30892, 1481...   \n",
       "641                  [102]  [5486, 22716, 19731, 13417, 11081, 31195, 2720...   \n",
       "805   [188, 117, 102, 166]                  [19177, 8710, 19663, 3872, 34318]   \n",
       "1226                 [238]  [13165, 11604, 3722, 21988, 32097, 23400, 2692...   \n",
       "1281            [121, 102]                  [11572, 2515, 26948, 13185, 2114]   \n",
       "1769                 [102]  [29653, 31246, 23775, 23192, 30865, 28016, 564...   \n",
       "1978            [117, 102]                  [6975, 18398, 32284, 7376, 15174]   \n",
       "2775       [117, 102, 166]  [33567, 6183, 10279, 11664, 8475, 34785, 29811...   \n",
       "2820                 [238]  [9540, 4845, 17587, 11083, 5536, 26849, 17882,...   \n",
       "3092         [175, 188, 0]                                                 []   \n",
       "3415                 [102]                                                 []   \n",
       "3492       [122, 102, 146]                 [32235, 3682, 31280, 29958, 11859]   \n",
       "3896                 [238]  [17882, 21698, 4845, 1194, 11083, 32647, 10334...   \n",
       "4505            [245, 242]                  [5197, 2502, 23304, 19706, 32199]   \n",
       "4991                 [102]          [30724, 32967, 34036, 21694, 7812, 30945]   \n",
       "5571                 [238]  [4845, 17587, 30958, 11083, 6857, 2971, 881, 2...   \n",
       "5849                 [121]  [4378, 5332, 16814, 7345, 20828, 28334, 14294,...   \n",
       "6194   [122, 188, 238, 20]                 [2590, 33845, 11031, 26970, 15345]   \n",
       "6984                 [102]                    [34555, 9199, 6939, 9629, 2831]   \n",
       "\n",
       "                title_orig  age_rating  \\\n",
       "475                   2012        16.0   \n",
       "484                    NaN         NaN   \n",
       "641                    NaN         NaN   \n",
       "805         Monster hunter        16.0   \n",
       "1226                   NaN         NaN   \n",
       "1281                   NaN         NaN   \n",
       "1769                   NaN         6.0   \n",
       "1978                   NaN         NaN   \n",
       "2775             First Man        12.0   \n",
       "2820                   NaN         NaN   \n",
       "3092                   NaN         NaN   \n",
       "3415                   NaN         NaN   \n",
       "3492         The Empty Man        18.0   \n",
       "3896                   NaN         NaN   \n",
       "4505                   NaN         NaN   \n",
       "4991                   NaN         NaN   \n",
       "5571                   NaN         NaN   \n",
       "5849  Daughter of the Wolf        18.0   \n",
       "6194                   NaN         NaN   \n",
       "6984                Faster        18.0   \n",
       "\n",
       "                                               keywords  \n",
       "475   цивилизация, гонка со временем, стихийное бедс...  \n",
       "484                                                 NaN  \n",
       "641                                                 NaN  \n",
       "805   женщина-солдат, другое измерение, лук и стрела...  \n",
       "1226                                                NaN  \n",
       "1281                                                NaN  \n",
       "1769  Гарфилд, 2019, Франция, друзья, кошки, собаки,...  \n",
       "1978                                                NaN  \n",
       "2775  луна, основанная на романе или книге, НАСА, од...  \n",
       "2820                                                NaN  \n",
       "3092                                                NaN  \n",
       "3415                                                NaN  \n",
       "3492  по мотивам графического романа, 2020, соединен...  \n",
       "3896                                                NaN  \n",
       "4505                                                NaN  \n",
       "4991                                                NaN  \n",
       "5571                                                NaN  \n",
       "5849                          2019, канада, дочь, волка  \n",
       "6194                                                NaN  \n",
       "6984  заключенный, наемный убийца, полиция, стрельба...  "
      ]
     },
     "execution_count": 27,
     "metadata": {},
     "output_type": "execute_result"
    }
   ],
   "source": [
    "items[items[\"id\"].isin(top_20_items_week)]"
   ]
  },
  {
   "cell_type": "markdown",
   "metadata": {},
   "source": [
    "### Гипотеза\n",
    "Взять эвристику, топ по просмотру за неделю \\ месяц (эвристика: больше всего смотрели за...)"
   ]
  },
  {
   "cell_type": "markdown",
   "metadata": {},
   "source": [
    "### Вспомним"
   ]
  },
  {
   "cell_type": "markdown",
   "metadata": {},
   "source": [
    "типы данных в таблице `items`"
   ]
  },
  {
   "cell_type": "code",
   "execution_count": 28,
   "metadata": {},
   "outputs": [
    {
     "data": {
      "text/plain": [
       "id                    int64\n",
       "title                object\n",
       "year                  int64\n",
       "date_publication     object\n",
       "description          object\n",
       "genres               object\n",
       "countries            object\n",
       "staff                object\n",
       "title_orig           object\n",
       "age_rating          float64\n",
       "keywords             object\n",
       "dtype: object"
      ]
     },
     "execution_count": 28,
     "metadata": {},
     "output_type": "execute_result"
    }
   ],
   "source": [
    "items.dtypes\n"
   ]
  },
  {
   "cell_type": "markdown",
   "metadata": {},
   "source": [
    "Рассмотрим genres, countries, staff в приближении"
   ]
  },
  {
   "cell_type": "code",
   "execution_count": 29,
   "metadata": {},
   "outputs": [
    {
     "data": {
      "text/plain": [
       "array(['[97]', '[138, 97, 294]', '[294, 302]', ..., '[138, 85]', '[247]',\n",
       "       '[261]'], dtype=object)"
      ]
     },
     "metadata": {},
     "output_type": "display_data"
    },
    {
     "data": {
      "text/plain": [
       "array(['[238]', '[242]', '[250, 117]', ..., '[0]', '[238]', '[102]'],\n",
       "      dtype=object)"
      ]
     },
     "metadata": {},
     "output_type": "display_data"
    },
    {
     "data": {
      "text/plain": [
       "array(['[1883, 33655, 25890, 1001, 12051, 10110, 16895]',\n",
       "       '[18168, 23444, 10850, 21847, 30555, 24469, 26812, 11290, 16458, 33033, 7053]',\n",
       "       '[3933, 19953, 32174, 30640, 14127, 32141, 2549, 7525, 25798, 31229, 33792, 31419, 12732, 28017, 17540, 23077, 27944, 5513, 19049, 17022, 4162]',\n",
       "       ...,\n",
       "       '[5828, 24468, 5125, 19939, 12752, 21851, 22674, 23632, 7863, 31820]',\n",
       "       '[]',\n",
       "       '[17245, 11259, 18449, 12897, 15908, 10901, 16447, 32468, 30031, 7676, 18341]'],\n",
       "      dtype=object)"
      ]
     },
     "metadata": {},
     "output_type": "display_data"
    }
   ],
   "source": [
    "display(items[\"genres\"].values)\n",
    "display(items[\"countries\"].values)\n",
    "display(items[\"staff\"].values)"
   ]
  },
  {
   "cell_type": "markdown",
   "metadata": {},
   "source": [
    "Это массивы из строк, следовательно, при составлении модели и подготовке данных значения из этих колонок придется парсить."
   ]
  },
  {
   "cell_type": "markdown",
   "metadata": {},
   "source": [
    "### Вывод по таблице Items\n",
    "\n",
    "Из полезного из данных таблиц можно достать\n",
    "- топ самых популярных участников съемочных групп, а учитывая таблицу `staff` можно будет выбрать их по категориям (актер, режисер, подюссер и т.д.),\n",
    "- топ популярности жанров,\n",
    "- топ стран, производящих фильмы,\n",
    "- значения возрастного рейтинга.\n"
   ]
  },
  {
   "cell_type": "markdown",
   "metadata": {},
   "source": [
    "# Остальное\n",
    "По оставшимся таблицам можно сказать, следующее: \n",
    "в них содержатся данные с кодами к элементам колонок таблицы items, так что не придется вручную производить их кодировку."
   ]
  }
 ],
 "metadata": {
  "kernelspec": {
   "display_name": "env3.12",
   "language": "python",
   "name": "python3"
  },
  "language_info": {
   "codemirror_mode": {
    "name": "ipython",
    "version": 3
   },
   "file_extension": ".py",
   "mimetype": "text/x-python",
   "name": "python",
   "nbconvert_exporter": "python",
   "pygments_lexer": "ipython3",
   "version": "3.11.9"
  }
 },
 "nbformat": 4,
 "nbformat_minor": 2
}
